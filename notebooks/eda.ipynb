{
 "cells": [
  {
   "cell_type": "code",
   "execution_count": 10,
   "id": "f9342fa0",
   "metadata": {},
   "outputs": [],
   "source": [
    "import pandas as pd\n",
    "import os\n",
    "data_path = os.path.join('..', 'data', 'dataset.csv')\n",
    "#data = pd.read_csv('/data/dataset.csv')\n",
    "data = pd.read_csv(data_path)"
   ]
  },
  {
   "cell_type": "code",
   "execution_count": 11,
   "id": "3e98c491",
   "metadata": {},
   "outputs": [
    {
     "data": {
      "text/plain": [
       "(1460, 22)"
      ]
     },
     "execution_count": 11,
     "metadata": {},
     "output_type": "execute_result"
    }
   ],
   "source": [
    "data.shape"
   ]
  },
  {
   "cell_type": "code",
   "execution_count": 12,
   "id": "ba7875f3",
   "metadata": {},
   "outputs": [
    {
     "data": {
      "application/vnd.microsoft.datawrangler.viewer.v0+json": {
       "columns": [
        {
         "name": "index",
         "rawType": "int64",
         "type": "integer"
        },
        {
         "name": "LotArea",
         "rawType": "int64",
         "type": "integer"
        },
        {
         "name": "GrLivArea",
         "rawType": "int64",
         "type": "integer"
        },
        {
         "name": "Street",
         "rawType": "object",
         "type": "string"
        },
        {
         "name": "Alley",
         "rawType": "object",
         "type": "unknown"
        },
        {
         "name": "LotType",
         "rawType": "object",
         "type": "string"
        },
        {
         "name": "BldgType",
         "rawType": "object",
         "type": "string"
        },
        {
         "name": "HouseStyle",
         "rawType": "object",
         "type": "string"
        },
        {
         "name": "OverallQuality",
         "rawType": "int64",
         "type": "integer"
        },
        {
         "name": "OverallCondition",
         "rawType": "int64",
         "type": "integer"
        },
        {
         "name": "YearBuilt",
         "rawType": "int64",
         "type": "integer"
        },
        {
         "name": "Foundation",
         "rawType": "object",
         "type": "string"
        },
        {
         "name": "TotalBsmtSF",
         "rawType": "int64",
         "type": "integer"
        },
        {
         "name": "CentralAir",
         "rawType": "object",
         "type": "string"
        },
        {
         "name": "FullBath",
         "rawType": "int64",
         "type": "integer"
        },
        {
         "name": "HalfBath",
         "rawType": "int64",
         "type": "integer"
        },
        {
         "name": "GarageType",
         "rawType": "object",
         "type": "unknown"
        },
        {
         "name": "GarageCars",
         "rawType": "int64",
         "type": "integer"
        },
        {
         "name": "GarageArea",
         "rawType": "float64",
         "type": "float"
        },
        {
         "name": "YearSold",
         "rawType": "int64",
         "type": "integer"
        },
        {
         "name": "SaleType",
         "rawType": "object",
         "type": "string"
        },
        {
         "name": "SaleCondition",
         "rawType": "object",
         "type": "string"
        },
        {
         "name": "SalePrice",
         "rawType": "int64",
         "type": "integer"
        }
       ],
       "conversionMethod": "pd.DataFrame",
       "ref": "8e34f38e-3563-48fe-af2f-5275c6491ddf",
       "rows": [
        [
         "0",
         "8910",
         "1194",
         "Pave",
         null,
         "Corner",
         "1Fam",
         "1Fam",
         "6",
         "6",
         "1959",
         "CBlock",
         "655",
         "Y",
         "1",
         "0",
         "BuiltIn",
         "2",
         "539.0",
         "2006",
         "WD",
         "Normal",
         "159500"
        ],
        [
         "1",
         "1526",
         "630",
         "Pave",
         null,
         "Inside",
         "Twnhs",
         "SFoyer",
         "4",
         "8",
         "1970",
         "CBlock",
         "630",
         "Y",
         "1",
         "0",
         "Attchd",
         "1",
         "286.0",
         "2009",
         "WD",
         "Normal",
         "86000"
        ],
        [
         "2",
         "14598",
         "1933",
         "Pave",
         null,
         "CulDSac",
         "1Fam",
         "2Story",
         "6",
         "5",
         "2007",
         "PConc",
         "894",
         "Y",
         "2",
         "1",
         "BuiltIn",
         "3",
         "668.0",
         "2008",
         "WD",
         "Normal",
         "214000"
        ],
        [
         "3",
         "7200",
         "1040",
         "Pave",
         null,
         "Inside",
         "Duplex",
         "1Story",
         "4",
         "5",
         "1949",
         "Slab",
         "0",
         "N",
         "2",
         "0",
         "Detchd",
         "2",
         "420.0",
         "2009",
         "WD",
         "Normal",
         "90000"
        ],
        [
         "4",
         "5687",
         "1716",
         "Pave",
         "Grvl",
         "Inside",
         "2fmCon",
         "2Story",
         "5",
         "6",
         "1912",
         "PConc",
         "780",
         "N",
         "2",
         "0",
         null,
         "0",
         "0.0",
         "2008",
         "WD",
         "Normal",
         "135900"
        ]
       ],
       "shape": {
        "columns": 22,
        "rows": 5
       }
      },
      "text/html": [
       "<div>\n",
       "<style scoped>\n",
       "    .dataframe tbody tr th:only-of-type {\n",
       "        vertical-align: middle;\n",
       "    }\n",
       "\n",
       "    .dataframe tbody tr th {\n",
       "        vertical-align: top;\n",
       "    }\n",
       "\n",
       "    .dataframe thead th {\n",
       "        text-align: right;\n",
       "    }\n",
       "</style>\n",
       "<table border=\"1\" class=\"dataframe\">\n",
       "  <thead>\n",
       "    <tr style=\"text-align: right;\">\n",
       "      <th></th>\n",
       "      <th>LotArea</th>\n",
       "      <th>GrLivArea</th>\n",
       "      <th>Street</th>\n",
       "      <th>Alley</th>\n",
       "      <th>LotType</th>\n",
       "      <th>BldgType</th>\n",
       "      <th>HouseStyle</th>\n",
       "      <th>OverallQuality</th>\n",
       "      <th>OverallCondition</th>\n",
       "      <th>YearBuilt</th>\n",
       "      <th>...</th>\n",
       "      <th>CentralAir</th>\n",
       "      <th>FullBath</th>\n",
       "      <th>HalfBath</th>\n",
       "      <th>GarageType</th>\n",
       "      <th>GarageCars</th>\n",
       "      <th>GarageArea</th>\n",
       "      <th>YearSold</th>\n",
       "      <th>SaleType</th>\n",
       "      <th>SaleCondition</th>\n",
       "      <th>SalePrice</th>\n",
       "    </tr>\n",
       "  </thead>\n",
       "  <tbody>\n",
       "    <tr>\n",
       "      <th>0</th>\n",
       "      <td>8910</td>\n",
       "      <td>1194</td>\n",
       "      <td>Pave</td>\n",
       "      <td>NaN</td>\n",
       "      <td>Corner</td>\n",
       "      <td>1Fam</td>\n",
       "      <td>1Fam</td>\n",
       "      <td>6</td>\n",
       "      <td>6</td>\n",
       "      <td>1959</td>\n",
       "      <td>...</td>\n",
       "      <td>Y</td>\n",
       "      <td>1</td>\n",
       "      <td>0</td>\n",
       "      <td>BuiltIn</td>\n",
       "      <td>2</td>\n",
       "      <td>539.0</td>\n",
       "      <td>2006</td>\n",
       "      <td>WD</td>\n",
       "      <td>Normal</td>\n",
       "      <td>159500</td>\n",
       "    </tr>\n",
       "    <tr>\n",
       "      <th>1</th>\n",
       "      <td>1526</td>\n",
       "      <td>630</td>\n",
       "      <td>Pave</td>\n",
       "      <td>NaN</td>\n",
       "      <td>Inside</td>\n",
       "      <td>Twnhs</td>\n",
       "      <td>SFoyer</td>\n",
       "      <td>4</td>\n",
       "      <td>8</td>\n",
       "      <td>1970</td>\n",
       "      <td>...</td>\n",
       "      <td>Y</td>\n",
       "      <td>1</td>\n",
       "      <td>0</td>\n",
       "      <td>Attchd</td>\n",
       "      <td>1</td>\n",
       "      <td>286.0</td>\n",
       "      <td>2009</td>\n",
       "      <td>WD</td>\n",
       "      <td>Normal</td>\n",
       "      <td>86000</td>\n",
       "    </tr>\n",
       "    <tr>\n",
       "      <th>2</th>\n",
       "      <td>14598</td>\n",
       "      <td>1933</td>\n",
       "      <td>Pave</td>\n",
       "      <td>NaN</td>\n",
       "      <td>CulDSac</td>\n",
       "      <td>1Fam</td>\n",
       "      <td>2Story</td>\n",
       "      <td>6</td>\n",
       "      <td>5</td>\n",
       "      <td>2007</td>\n",
       "      <td>...</td>\n",
       "      <td>Y</td>\n",
       "      <td>2</td>\n",
       "      <td>1</td>\n",
       "      <td>BuiltIn</td>\n",
       "      <td>3</td>\n",
       "      <td>668.0</td>\n",
       "      <td>2008</td>\n",
       "      <td>WD</td>\n",
       "      <td>Normal</td>\n",
       "      <td>214000</td>\n",
       "    </tr>\n",
       "    <tr>\n",
       "      <th>3</th>\n",
       "      <td>7200</td>\n",
       "      <td>1040</td>\n",
       "      <td>Pave</td>\n",
       "      <td>NaN</td>\n",
       "      <td>Inside</td>\n",
       "      <td>Duplex</td>\n",
       "      <td>1Story</td>\n",
       "      <td>4</td>\n",
       "      <td>5</td>\n",
       "      <td>1949</td>\n",
       "      <td>...</td>\n",
       "      <td>N</td>\n",
       "      <td>2</td>\n",
       "      <td>0</td>\n",
       "      <td>Detchd</td>\n",
       "      <td>2</td>\n",
       "      <td>420.0</td>\n",
       "      <td>2009</td>\n",
       "      <td>WD</td>\n",
       "      <td>Normal</td>\n",
       "      <td>90000</td>\n",
       "    </tr>\n",
       "    <tr>\n",
       "      <th>4</th>\n",
       "      <td>5687</td>\n",
       "      <td>1716</td>\n",
       "      <td>Pave</td>\n",
       "      <td>Grvl</td>\n",
       "      <td>Inside</td>\n",
       "      <td>2fmCon</td>\n",
       "      <td>2Story</td>\n",
       "      <td>5</td>\n",
       "      <td>6</td>\n",
       "      <td>1912</td>\n",
       "      <td>...</td>\n",
       "      <td>N</td>\n",
       "      <td>2</td>\n",
       "      <td>0</td>\n",
       "      <td>NaN</td>\n",
       "      <td>0</td>\n",
       "      <td>0.0</td>\n",
       "      <td>2008</td>\n",
       "      <td>WD</td>\n",
       "      <td>Normal</td>\n",
       "      <td>135900</td>\n",
       "    </tr>\n",
       "  </tbody>\n",
       "</table>\n",
       "<p>5 rows × 22 columns</p>\n",
       "</div>"
      ],
      "text/plain": [
       "   LotArea  GrLivArea Street Alley  LotType BldgType HouseStyle  \\\n",
       "0     8910       1194   Pave   NaN   Corner     1Fam       1Fam   \n",
       "1     1526        630   Pave   NaN   Inside    Twnhs     SFoyer   \n",
       "2    14598       1933   Pave   NaN  CulDSac     1Fam     2Story   \n",
       "3     7200       1040   Pave   NaN   Inside   Duplex     1Story   \n",
       "4     5687       1716   Pave  Grvl   Inside   2fmCon     2Story   \n",
       "\n",
       "   OverallQuality  OverallCondition  YearBuilt  ... CentralAir  FullBath  \\\n",
       "0               6                 6       1959  ...          Y         1   \n",
       "1               4                 8       1970  ...          Y         1   \n",
       "2               6                 5       2007  ...          Y         2   \n",
       "3               4                 5       1949  ...          N         2   \n",
       "4               5                 6       1912  ...          N         2   \n",
       "\n",
       "  HalfBath  GarageType  GarageCars GarageArea  YearSold  SaleType  \\\n",
       "0        0     BuiltIn           2      539.0      2006        WD   \n",
       "1        0      Attchd           1      286.0      2009        WD   \n",
       "2        1     BuiltIn           3      668.0      2008        WD   \n",
       "3        0      Detchd           2      420.0      2009        WD   \n",
       "4        0         NaN           0        0.0      2008        WD   \n",
       "\n",
       "   SaleCondition SalePrice  \n",
       "0         Normal    159500  \n",
       "1         Normal     86000  \n",
       "2         Normal    214000  \n",
       "3         Normal     90000  \n",
       "4         Normal    135900  \n",
       "\n",
       "[5 rows x 22 columns]"
      ]
     },
     "execution_count": 12,
     "metadata": {},
     "output_type": "execute_result"
    }
   ],
   "source": [
    "data.head()"
   ]
  },
  {
   "cell_type": "markdown",
   "id": "a8b08a70",
   "metadata": {},
   "source": [
    "## Simple Data Exploration"
   ]
  },
  {
   "cell_type": "code",
   "execution_count": 14,
   "id": "5996f9da",
   "metadata": {},
   "outputs": [
    {
     "data": {
      "text/plain": [
       "Alley         1369\n",
       "GarageType      81\n",
       "GarageArea      43\n",
       "dtype: int64"
      ]
     },
     "execution_count": 14,
     "metadata": {},
     "output_type": "execute_result"
    }
   ],
   "source": [
    "import matplotlib.pyplot as plt\n",
    "import seaborn as sns\n",
    "\n",
    "# basic view of missing values\n",
    "\n",
    "missing = data.isnull().sum().sort_values(ascending=False)\n",
    "missing = missing[missing > 0]\n",
    "missing"
   ]
  },
  {
   "cell_type": "code",
   "execution_count": 79,
   "id": "711216a0",
   "metadata": {},
   "outputs": [
    {
     "data": {
      "text/plain": [
       "Alley         1369\n",
       "GarageType      81\n",
       "GarageArea      43\n",
       "dtype: int64"
      ]
     },
     "execution_count": 79,
     "metadata": {},
     "output_type": "execute_result"
    }
   ],
   "source": [
    "missing_na = data.isna().sum().sort_values(ascending=False)\n",
    "missing_na = missing_na[missing_na > 0]\n",
    "missing_na\n"
   ]
  },
  {
   "cell_type": "markdown",
   "id": "7b0eb447",
   "metadata": {},
   "source": [
    "#### We can see that the number of missing values for the alley feature is too high. We can drop this feature from the dataset."
   ]
  },
  {
   "cell_type": "code",
   "execution_count": 16,
   "id": "1c243018",
   "metadata": {},
   "outputs": [
    {
     "data": {
      "image/png": "[encoded data removed]",
      "text/plain": [
       "<Figure size 1000x800 with 1 Axes>"
      ]
     },
     "metadata": {},
     "output_type": "display_data"
    }
   ],
   "source": [
    "missing.plot(kind=\"barh\", figsize=(10, 8), title=\"missing values\")\n",
    "plt.show()"
   ]
  },
  {
   "cell_type": "code",
   "execution_count": 67,
   "id": "24082262",
   "metadata": {},
   "outputs": [
    {
     "data": {
      "text/plain": [
       "SalePrice           1.000000\n",
       "OverallQuality      0.790982\n",
       "GarageCars          0.640409\n",
       "GarageArea          0.617894\n",
       "TotalBsmtSF         0.613581\n",
       "FullBath            0.560664\n",
       "YearBuilt           0.522897\n",
       "GrLivArea           0.359387\n",
       "HalfBath            0.284108\n",
       "LotArea             0.263843\n",
       "YearSold           -0.028923\n",
       "OverallCondition   -0.077856\n",
       "Name: SalePrice, dtype: float64"
      ]
     },
     "execution_count": 67,
     "metadata": {},
     "output_type": "execute_result"
    }
   ],
   "source": [
    "# correlation of features with target SalePrice\n",
    "num_corr = data.corr(numeric_only=True)[\"SalePrice\"].sort_values(ascending=False)\n",
    "num_corr"
   ]
  },
  {
   "cell_type": "markdown",
   "id": "c5d5cc92",
   "metadata": {},
   "source": [
    "#### We can see that the number of missing values for the alley feature is too high. We can drop this feature from the dataset.\n",
    "\n",
    "####  from what we can see here , YearSold and OverallCondition are independently weakly correlated with SalePrice so we could drop them but we must be carefull because there might be an hidden variable that combined with those variables create a correlation "
   ]
  },
  {
   "cell_type": "code",
   "execution_count": 19,
   "id": "9736ab48",
   "metadata": {},
   "outputs": [
    {
     "data": {
      "application/vnd.microsoft.datawrangler.viewer.v0+json": {
       "columns": [
        {
         "name": "index",
         "rawType": "object",
         "type": "string"
        },
        {
         "name": "LotArea",
         "rawType": "float64",
         "type": "float"
        },
        {
         "name": "GrLivArea",
         "rawType": "float64",
         "type": "float"
        },
        {
         "name": "OverallQuality",
         "rawType": "float64",
         "type": "float"
        },
        {
         "name": "OverallCondition",
         "rawType": "float64",
         "type": "float"
        },
        {
         "name": "YearBuilt",
         "rawType": "float64",
         "type": "float"
        },
        {
         "name": "TotalBsmtSF",
         "rawType": "float64",
         "type": "float"
        },
        {
         "name": "FullBath",
         "rawType": "float64",
         "type": "float"
        },
        {
         "name": "HalfBath",
         "rawType": "float64",
         "type": "float"
        },
        {
         "name": "GarageCars",
         "rawType": "float64",
         "type": "float"
        },
        {
         "name": "GarageArea",
         "rawType": "float64",
         "type": "float"
        },
        {
         "name": "YearSold",
         "rawType": "float64",
         "type": "float"
        },
        {
         "name": "SalePrice",
         "rawType": "float64",
         "type": "float"
        }
       ],
       "conversionMethod": "pd.DataFrame",
       "ref": "4cbe4f69-6424-48b2-bc13-f79a0dbdb4d6",
       "rows": [
        [
         "count",
         "1460.0",
         "1460.0",
         "1460.0",
         "1460.0",
         "1460.0",
         "1460.0",
         "1460.0",
         "1460.0",
         "1460.0",
         "1417.0",
         "1460.0",
         "1460.0"
        ],
        [
         "mean",
         "10516.828082191782",
         "1567.2075342465753",
         "6.0993150684931505",
         "5.575342465753424",
         "1971.267808219178",
         "1057.4294520547944",
         "1.5650684931506849",
         "0.38287671232876713",
         "1.7671232876712328",
         "471.409315455187",
         "2007.8157534246575",
         "180921.19589041095"
        ],
        [
         "std",
         "9981.26493237915",
         "1072.198453837726",
         "1.3829965467415934",
         "1.1127993367127318",
         "30.20290404252526",
         "438.7053244594708",
         "0.5509158012954318",
         "0.5028853810928914",
         "0.7473150101111095",
         "214.2178629211788",
         "1.3280951205521097",
         "79442.50288288662"
        ],
        [
         "min",
         "1300.0",
         "334.0",
         "1.0",
         "1.0",
         "1872.0",
         "0.0",
         "0.0",
         "0.0",
         "0.0",
         "0.0",
         "2006.0",
         "34900.0"
        ],
        [
         "25%",
         "7553.5",
         "1130.75",
         "5.0",
         "5.0",
         "1954.0",
         "795.75",
         "1.0",
         "0.0",
         "1.0",
         "326.0",
         "2007.0",
         "129975.0"
        ],
        [
         "50%",
         "9478.5",
         "1466.0",
         "6.0",
         "5.0",
         "1973.0",
         "991.5",
         "2.0",
         "0.0",
         "2.0",
         "478.0",
         "2008.0",
         "163000.0"
        ],
        [
         "75%",
         "11601.5",
         "1784.5",
         "7.0",
         "6.0",
         "2000.0",
         "1298.25",
         "2.0",
         "1.0",
         "2.0",
         "576.0",
         "2009.0",
         "214000.0"
        ],
        [
         "max",
         "215245.0",
         "23400.0",
         "10.0",
         "9.0",
         "2010.0",
         "6110.0",
         "3.0",
         "2.0",
         "4.0",
         "1418.0",
         "2010.0",
         "755000.0"
        ]
       ],
       "shape": {
        "columns": 12,
        "rows": 8
       }
      },
      "text/html": [
       "<div>\n",
       "<style scoped>\n",
       "    .dataframe tbody tr th:only-of-type {\n",
       "        vertical-align: middle;\n",
       "    }\n",
       "\n",
       "    .dataframe tbody tr th {\n",
       "        vertical-align: top;\n",
       "    }\n",
       "\n",
       "    .dataframe thead th {\n",
       "        text-align: right;\n",
       "    }\n",
       "</style>\n",
       "<table border=\"1\" class=\"dataframe\">\n",
       "  <thead>\n",
       "    <tr style=\"text-align: right;\">\n",
       "      <th></th>\n",
       "      <th>LotArea</th>\n",
       "      <th>GrLivArea</th>\n",
       "      <th>OverallQuality</th>\n",
       "      <th>OverallCondition</th>\n",
       "      <th>YearBuilt</th>\n",
       "      <th>TotalBsmtSF</th>\n",
       "      <th>FullBath</th>\n",
       "      <th>HalfBath</th>\n",
       "      <th>GarageCars</th>\n",
       "      <th>GarageArea</th>\n",
       "      <th>YearSold</th>\n",
       "      <th>SalePrice</th>\n",
       "    </tr>\n",
       "  </thead>\n",
       "  <tbody>\n",
       "    <tr>\n",
       "      <th>count</th>\n",
       "      <td>1460.000000</td>\n",
       "      <td>1460.000000</td>\n",
       "      <td>1460.000000</td>\n",
       "      <td>1460.000000</td>\n",
       "      <td>1460.000000</td>\n",
       "      <td>1460.000000</td>\n",
       "      <td>1460.000000</td>\n",
       "      <td>1460.000000</td>\n",
       "      <td>1460.000000</td>\n",
       "      <td>1417.000000</td>\n",
       "      <td>1460.000000</td>\n",
       "      <td>1460.000000</td>\n",
       "    </tr>\n",
       "    <tr>\n",
       "      <th>mean</th>\n",
       "      <td>10516.828082</td>\n",
       "      <td>1567.207534</td>\n",
       "      <td>6.099315</td>\n",
       "      <td>5.575342</td>\n",
       "      <td>1971.267808</td>\n",
       "      <td>1057.429452</td>\n",
       "      <td>1.565068</td>\n",
       "      <td>0.382877</td>\n",
       "      <td>1.767123</td>\n",
       "      <td>471.409315</td>\n",
       "      <td>2007.815753</td>\n",
       "      <td>180921.195890</td>\n",
       "    </tr>\n",
       "    <tr>\n",
       "      <th>std</th>\n",
       "      <td>9981.264932</td>\n",
       "      <td>1072.198454</td>\n",
       "      <td>1.382997</td>\n",
       "      <td>1.112799</td>\n",
       "      <td>30.202904</td>\n",
       "      <td>438.705324</td>\n",
       "      <td>0.550916</td>\n",
       "      <td>0.502885</td>\n",
       "      <td>0.747315</td>\n",
       "      <td>214.217863</td>\n",
       "      <td>1.328095</td>\n",
       "      <td>79442.502883</td>\n",
       "    </tr>\n",
       "    <tr>\n",
       "      <th>min</th>\n",
       "      <td>1300.000000</td>\n",
       "      <td>334.000000</td>\n",
       "      <td>1.000000</td>\n",
       "      <td>1.000000</td>\n",
       "      <td>1872.000000</td>\n",
       "      <td>0.000000</td>\n",
       "      <td>0.000000</td>\n",
       "      <td>0.000000</td>\n",
       "      <td>0.000000</td>\n",
       "      <td>0.000000</td>\n",
       "      <td>2006.000000</td>\n",
       "      <td>34900.000000</td>\n",
       "    </tr>\n",
       "    <tr>\n",
       "      <th>25%</th>\n",
       "      <td>7553.500000</td>\n",
       "      <td>1130.750000</td>\n",
       "      <td>5.000000</td>\n",
       "      <td>5.000000</td>\n",
       "      <td>1954.000000</td>\n",
       "      <td>795.750000</td>\n",
       "      <td>1.000000</td>\n",
       "      <td>0.000000</td>\n",
       "      <td>1.000000</td>\n",
       "      <td>326.000000</td>\n",
       "      <td>2007.000000</td>\n",
       "      <td>129975.000000</td>\n",
       "    </tr>\n",
       "    <tr>\n",
       "      <th>50%</th>\n",
       "      <td>9478.500000</td>\n",
       "      <td>1466.000000</td>\n",
       "      <td>6.000000</td>\n",
       "      <td>5.000000</td>\n",
       "      <td>1973.000000</td>\n",
       "      <td>991.500000</td>\n",
       "      <td>2.000000</td>\n",
       "      <td>0.000000</td>\n",
       "      <td>2.000000</td>\n",
       "      <td>478.000000</td>\n",
       "      <td>2008.000000</td>\n",
       "      <td>163000.000000</td>\n",
       "    </tr>\n",
       "    <tr>\n",
       "      <th>75%</th>\n",
       "      <td>11601.500000</td>\n",
       "      <td>1784.500000</td>\n",
       "      <td>7.000000</td>\n",
       "      <td>6.000000</td>\n",
       "      <td>2000.000000</td>\n",
       "      <td>1298.250000</td>\n",
       "      <td>2.000000</td>\n",
       "      <td>1.000000</td>\n",
       "      <td>2.000000</td>\n",
       "      <td>576.000000</td>\n",
       "      <td>2009.000000</td>\n",
       "      <td>214000.000000</td>\n",
       "    </tr>\n",
       "    <tr>\n",
       "      <th>max</th>\n",
       "      <td>215245.000000</td>\n",
       "      <td>23400.000000</td>\n",
       "      <td>10.000000</td>\n",
       "      <td>9.000000</td>\n",
       "      <td>2010.000000</td>\n",
       "      <td>6110.000000</td>\n",
       "      <td>3.000000</td>\n",
       "      <td>2.000000</td>\n",
       "      <td>4.000000</td>\n",
       "      <td>1418.000000</td>\n",
       "      <td>2010.000000</td>\n",
       "      <td>755000.000000</td>\n",
       "    </tr>\n",
       "  </tbody>\n",
       "</table>\n",
       "</div>"
      ],
      "text/plain": [
       "             LotArea     GrLivArea  OverallQuality  OverallCondition  \\\n",
       "count    1460.000000   1460.000000     1460.000000       1460.000000   \n",
       "mean    10516.828082   1567.207534        6.099315          5.575342   \n",
       "std      9981.264932   1072.198454        1.382997          1.112799   \n",
       "min      1300.000000    334.000000        1.000000          1.000000   \n",
       "25%      7553.500000   1130.750000        5.000000          5.000000   \n",
       "50%      9478.500000   1466.000000        6.000000          5.000000   \n",
       "75%     11601.500000   1784.500000        7.000000          6.000000   \n",
       "max    215245.000000  23400.000000       10.000000          9.000000   \n",
       "\n",
       "         YearBuilt  TotalBsmtSF     FullBath     HalfBath   GarageCars  \\\n",
       "count  1460.000000  1460.000000  1460.000000  1460.000000  1460.000000   \n",
       "mean   1971.267808  1057.429452     1.565068     0.382877     1.767123   \n",
       "std      30.202904   438.705324     0.550916     0.502885     0.747315   \n",
       "min    1872.000000     0.000000     0.000000     0.000000     0.000000   \n",
       "25%    1954.000000   795.750000     1.000000     0.000000     1.000000   \n",
       "50%    1973.000000   991.500000     2.000000     0.000000     2.000000   \n",
       "75%    2000.000000  1298.250000     2.000000     1.000000     2.000000   \n",
       "max    2010.000000  6110.000000     3.000000     2.000000     4.000000   \n",
       "\n",
       "        GarageArea     YearSold      SalePrice  \n",
       "count  1417.000000  1460.000000    1460.000000  \n",
       "mean    471.409315  2007.815753  180921.195890  \n",
       "std     214.217863     1.328095   79442.502883  \n",
       "min       0.000000  2006.000000   34900.000000  \n",
       "25%     326.000000  2007.000000  129975.000000  \n",
       "50%     478.000000  2008.000000  163000.000000  \n",
       "75%     576.000000  2009.000000  214000.000000  \n",
       "max    1418.000000  2010.000000  755000.000000  "
      ]
     },
     "execution_count": 19,
     "metadata": {},
     "output_type": "execute_result"
    }
   ],
   "source": [
    "data.describe()"
   ]
  },
  {
   "cell_type": "code",
   "execution_count": 21,
   "id": "07bd0c83",
   "metadata": {},
   "outputs": [
    {
     "data": {
      "application/vnd.microsoft.datawrangler.viewer.v0+json": {
       "columns": [
        {
         "name": "index",
         "rawType": "int64",
         "type": "integer"
        },
        {
         "name": "LotArea",
         "rawType": "int64",
         "type": "integer"
        },
        {
         "name": "GrLivArea",
         "rawType": "int64",
         "type": "integer"
        },
        {
         "name": "Street",
         "rawType": "object",
         "type": "string"
        },
        {
         "name": "Alley",
         "rawType": "object",
         "type": "unknown"
        },
        {
         "name": "LotType",
         "rawType": "object",
         "type": "string"
        },
        {
         "name": "BldgType",
         "rawType": "object",
         "type": "string"
        },
        {
         "name": "HouseStyle",
         "rawType": "object",
         "type": "string"
        },
        {
         "name": "OverallQuality",
         "rawType": "int64",
         "type": "integer"
        },
        {
         "name": "OverallCondition",
         "rawType": "int64",
         "type": "integer"
        },
        {
         "name": "YearBuilt",
         "rawType": "int64",
         "type": "integer"
        },
        {
         "name": "Foundation",
         "rawType": "object",
         "type": "string"
        },
        {
         "name": "TotalBsmtSF",
         "rawType": "int64",
         "type": "integer"
        },
        {
         "name": "CentralAir",
         "rawType": "object",
         "type": "string"
        },
        {
         "name": "FullBath",
         "rawType": "int64",
         "type": "integer"
        },
        {
         "name": "HalfBath",
         "rawType": "int64",
         "type": "integer"
        },
        {
         "name": "GarageType",
         "rawType": "object",
         "type": "unknown"
        },
        {
         "name": "GarageCars",
         "rawType": "int64",
         "type": "integer"
        },
        {
         "name": "GarageArea",
         "rawType": "float64",
         "type": "float"
        },
        {
         "name": "YearSold",
         "rawType": "int64",
         "type": "integer"
        },
        {
         "name": "SaleType",
         "rawType": "object",
         "type": "string"
        },
        {
         "name": "SaleCondition",
         "rawType": "object",
         "type": "string"
        },
        {
         "name": "SalePrice",
         "rawType": "int64",
         "type": "integer"
        }
       ],
       "conversionMethod": "pd.DataFrame",
       "ref": "4c3fb68b-8f0f-4068-acb7-8980b2866507",
       "rows": [
        [
         "0",
         "8910",
         "1194",
         "Pave",
         null,
         "Corner",
         "1Fam",
         "1Fam",
         "6",
         "6",
         "1959",
         "CBlock",
         "655",
         "Y",
         "1",
         "0",
         "BuiltIn",
         "2",
         "539.0",
         "2006",
         "WD",
         "Normal",
         "159500"
        ],
        [
         "1",
         "1526",
         "630",
         "Pave",
         null,
         "Inside",
         "Twnhs",
         "SFoyer",
         "4",
         "8",
         "1970",
         "CBlock",
         "630",
         "Y",
         "1",
         "0",
         "Attchd",
         "1",
         "286.0",
         "2009",
         "WD",
         "Normal",
         "86000"
        ],
        [
         "2",
         "14598",
         "1933",
         "Pave",
         null,
         "CulDSac",
         "1Fam",
         "2Story",
         "6",
         "5",
         "2007",
         "PConc",
         "894",
         "Y",
         "2",
         "1",
         "BuiltIn",
         "3",
         "668.0",
         "2008",
         "WD",
         "Normal",
         "214000"
        ],
        [
         "3",
         "7200",
         "1040",
         "Pave",
         null,
         "Inside",
         "Duplex",
         "1Story",
         "4",
         "5",
         "1949",
         "Slab",
         "0",
         "N",
         "2",
         "0",
         "Detchd",
         "2",
         "420.0",
         "2009",
         "WD",
         "Normal",
         "90000"
        ],
        [
         "4",
         "5687",
         "1716",
         "Pave",
         "Grvl",
         "Inside",
         "2fmCon",
         "2Story",
         "5",
         "6",
         "1912",
         "PConc",
         "780",
         "N",
         "2",
         "0",
         null,
         "0",
         "0.0",
         "2008",
         "WD",
         "Normal",
         "135900"
        ],
        [
         "5",
         "8100",
         "1559",
         "Pave",
         "Pave",
         "Inside",
         "1Fam",
         "1Story",
         "5",
         "6",
         "1948",
         "BrkTil",
         "1559",
         "Y",
         "1",
         "0",
         "Detchd",
         "2",
         "812.0",
         "2007",
         "COD",
         "Normal",
         "153500"
        ],
        [
         "6",
         "9600",
         "1644",
         "Pave",
         null,
         "Inside",
         "1Fam",
         "1Story",
         "6",
         "5",
         "1953",
         "CBlock",
         "1416",
         "Y",
         "1",
         "0",
         "Attchd",
         "2",
         "418.0",
         "2009",
         "WD",
         "Normal",
         "167000"
        ],
        [
         "7",
         "3182",
         "1200",
         "Pave",
         "Pave",
         "Inside",
         "TwnhsE",
         "2Story",
         "7",
         "5",
         "2004",
         "PConc",
         "600",
         "Y",
         "2",
         "1",
         "Detchd",
         "2",
         "480.0",
         "2010",
         "WD",
         "Normal",
         "151000"
        ],
        [
         "8",
         "6040",
         "1152",
         "Pave",
         null,
         "Inside",
         "Duplex",
         "1Story",
         "4",
         "5",
         "1955",
         "PConc",
         "0",
         "N",
         "2",
         "0",
         null,
         "0",
         "0.0",
         "2008",
         "WD",
         "AdjLand",
         "82000"
        ],
        [
         "9",
         "20544",
         "2093",
         "Pave",
         null,
         "CulDSac",
         "1Fam",
         "2Story",
         "7",
         "6",
         "1986",
         "CBlock",
         "791",
         "Y",
         "2",
         "1",
         "Attchd",
         "2",
         "542.0",
         "2008",
         "WD",
         "Normal",
         "215000"
        ],
        [
         "10",
         "8250",
         "1092",
         "Pave",
         null,
         "Inside",
         "1Fam",
         "1Story",
         "6",
         "7",
         "1964",
         "CBlock",
         "1092",
         "Y",
         "1",
         "0",
         "Attchd",
         "2",
         "504.0",
         "2008",
         "WD",
         "Normal",
         "145000"
        ],
        [
         "11",
         "9196",
         "1560",
         "Pave",
         null,
         "Inside",
         "1Fam",
         "1Story",
         "7",
         "5",
         "2003",
         "Do Not use this Field in the Model",
         "1560",
         "Y",
         "2",
         "0",
         "Attchd",
         "2",
         "573.0",
         "2010",
         "WD",
         "Normal",
         "201000"
        ],
        [
         "12",
         "5400",
         "691",
         "Pave",
         null,
         "Corner",
         "1Fam",
         "1Story",
         "5",
         "6",
         "1920",
         "BrkTil",
         "691",
         "Y",
         "1",
         "0",
         "Detchd",
         "1",
         "216.0",
         "2007",
         "WD",
         "Abnorml",
         "86000"
        ],
        [
         "13",
         "10240",
         "2098",
         "Pave",
         null,
         "Inside",
         "1Fam",
         "2Story",
         "8",
         "5",
         "2005",
         "PConc",
         "1030",
         "Y",
         "2",
         "1",
         "Attchd",
         "3",
         "878.0",
         "2006",
         "WD",
         "Normal",
         "275500"
        ],
        [
         "14",
         "9991",
         "1620",
         "Pave",
         null,
         "Corner",
         "1Fam",
         "1Story",
         "4",
         "4",
         "1976",
         "CBlock",
         "1281",
         "Y",
         "2",
         "0",
         "Attchd",
         "2",
         "490.0",
         "2009",
         "WD",
         "Normal",
         "150000"
        ],
        [
         "15",
         "3182",
         "1504",
         "Pave",
         null,
         "Inside",
         "TwnhsE",
         "1Story",
         "7",
         "5",
         "2005",
         "PConc",
         "1346",
         "Y",
         "2",
         "0",
         "Attchd",
         "2",
         "437.0",
         "2008",
         "WD",
         "Normal",
         "191000"
        ],
        [
         "16",
         "11435",
         "1517",
         "Pave",
         null,
         "Corner",
         "1Fam",
         "2Story",
         "8",
         "7",
         "1929",
         "PConc",
         "792",
         "Y",
         "1",
         "0",
         "Detchd",
         "2",
         "400.0",
         "2006",
         "WD",
         "Normal",
         "230000"
        ],
        [
         "17",
         "10140",
         "1074",
         "Pave",
         null,
         "Inside",
         "1Fam",
         "1Story",
         "5",
         "6",
         "1975",
         "CBlock",
         "1056",
         "Y",
         "1",
         "1",
         "Attchd",
         "2",
         "495.0",
         "2006",
         "WD",
         "Normal",
         "153500"
        ],
        [
         "18",
         "8700",
         "1128",
         "Pave",
         null,
         "Inside",
         "1Fam",
         "1Story",
         "5",
         "6",
         "1963",
         "CBlock",
         "1120",
         "Y",
         "2",
         "0",
         "Attchd",
         "2",
         "525.0",
         "2008",
         "WD",
         "Normal",
         "155000"
        ],
        [
         "19",
         "8100",
         "2138",
         "Pave",
         null,
         "Corner",
         "1Fam",
         "2.5Unf",
         "5",
         "5",
         "1898",
         "PConc",
         "849",
         "N",
         "2",
         "0",
         "Detchd",
         "2",
         "360.0",
         "2009",
         "WD",
         "Normal",
         "106000"
        ],
        [
         "20",
         "13450",
         "1861",
         "Pave",
         null,
         "Corner",
         "1Fam",
         "2Story",
         "7",
         "5",
         "2002",
         "PConc",
         "916",
         "Y",
         "2",
         "1",
         "BuiltIn",
         "2",
         "492.0",
         "2006",
         "WD",
         "Normal",
         "200000"
        ],
        [
         "21",
         "22950",
         "3608",
         "Pave",
         null,
         "Inside",
         "1Fam",
         "2.5Fin",
         "10",
         "9",
         "1892",
         "BrkTil",
         "1107",
         "Y",
         "2",
         "1",
         "Detchd",
         "3",
         "840.0",
         "2006",
         "WD",
         "Normal",
         "475000"
        ],
        [
         "22",
         "4438",
         "848",
         "Pave",
         null,
         "Inside",
         "TwnhsE",
         "1Story",
         "6",
         "5",
         "2004",
         "PConc",
         "848",
         "Y",
         "1",
         "0",
         "Attchd",
         "2",
         "420.0",
         "2008",
         "WD",
         "Normal",
         "149000"
        ],
        [
         "23",
         "13651",
         "2223",
         "Pave",
         null,
         "Inside",
         "1Fam",
         "1Story",
         "7",
         "6",
         "1973",
         "Do Not use this Field in the Model",
         "2223",
         "Y",
         "2",
         "0",
         "Attchd",
         "2",
         "516.0",
         "2007",
         "WD",
         "Normal",
         "244000"
        ],
        [
         "24",
         "16196",
         "1494",
         "Pave",
         null,
         "Inside",
         "1Fam",
         "1Story",
         "7",
         "5",
         "1998",
         "PConc",
         "1482",
         "Y",
         "2",
         "0",
         "Attchd",
         "2",
         "514.0",
         "2007",
         "WD",
         "Normal",
         "215000"
        ],
        [
         "25",
         "8814",
         "1274",
         "Pave",
         null,
         "Inside",
         "1Fam",
         "1Story",
         "7",
         "5",
         "2005",
         "PConc",
         "1274",
         "Y",
         "2",
         "0",
         "Attchd",
         "2",
         "508.0",
         "2007",
         "New",
         "Partial",
         "203000"
        ],
        [
         "26",
         "16560",
         "2345",
         "Pave",
         null,
         "Inside",
         "1Fam",
         "2Story",
         "6",
         "8",
         "1932",
         "BrkTil",
         "952",
         "Y",
         "2",
         "1",
         "Detchd",
         "2",
         "360.0",
         "2006",
         "WD",
         "Normal",
         "239000"
        ],
        [
         "27",
         "10000",
         "1178",
         "Pave",
         null,
         "Inside",
         "1Fam",
         "1Story",
         "5",
         "6",
         "1973",
         "CBlock",
         "1176",
         "Y",
         "1",
         "1",
         "Attchd",
         "2",
         "439.0",
         "2008",
         "WD",
         "Normal",
         "157000"
        ],
        [
         "28",
         "7500",
         "1804",
         "Pave",
         null,
         "Inside",
         "1Fam",
         "2Story",
         "7",
         "5",
         "1999",
         "PConc",
         "994",
         "Y",
         "2",
         "1",
         "Attchd",
         "2",
         "442.0",
         "2010",
         "WD",
         "Normal",
         "189000"
        ],
        [
         "29",
         "7500",
         "1221",
         "Pave",
         "Pave",
         "Inside",
         "1Fam",
         "1Story",
         "7",
         "5",
         "2004",
         "PConc",
         "1221",
         "Y",
         "2",
         "0",
         "Attchd",
         "2",
         "400.0",
         "2009",
         "WD",
         "Normal",
         "185000"
        ],
        [
         "30",
         "5587",
         "1652",
         "Pave",
         null,
         "Inside",
         "TwnhsE",
         "1Story",
         "8",
         "5",
         "2008",
         "PConc",
         "1600",
         "Y",
         "2",
         "0",
         "Attchd",
         "2",
         "482.0",
         "2008",
         "New",
         "Partial",
         "392500"
        ],
        [
         "31",
         "4500",
         "1224",
         "Pave",
         null,
         "FR2",
         "TwnhsE",
         "1Story",
         "6",
         "5",
         "1999",
         "PConc",
         "1224",
         "Y",
         "2",
         "0",
         "Attchd",
         "2",
         "402.0",
         "2009",
         "WD",
         "Normal",
         "165000"
        ],
        [
         "32",
         "12108",
         "1440",
         "Pave",
         null,
         "Inside",
         "Duplex",
         "1Story",
         "4",
         "4",
         "1955",
         "CBlock",
         "1440",
         "N",
         "2",
         "0",
         null,
         "0",
         "0.0",
         "2008",
         "WD",
         "Normal",
         "118000"
        ],
        [
         "33",
         "2308",
         "1322",
         "Pave",
         null,
         "Inside",
         "TwnhsE",
         "2Story",
         "6",
         "5",
         "1974",
         "CBlock",
         "855",
         "Y",
         "2",
         "1",
         "Attchd",
         "2",
         "440.0",
         "2009",
         "WD",
         "Normal",
         "147000"
        ],
        [
         "34",
         "14442",
         "1839",
         "Pave",
         null,
         "Inside",
         "1Fam",
         "1Story",
         "6",
         "7",
         "1957",
         "PConc",
         "1477",
         "Y",
         "2",
         "0",
         "Attchd",
         "2",
         "416.0",
         "2007",
         "WD",
         "Normal",
         "257500"
        ],
        [
         "35",
         "2448",
         "1626",
         "Pave",
         null,
         "Inside",
         "Twnhs",
         "2Story",
         "7",
         "5",
         "2003",
         "PConc",
         "764",
         "Y",
         "2",
         "1",
         "BuiltIn",
         "2",
         "474.0",
         "2008",
         "WD",
         "Normal",
         "154000"
        ],
        [
         "36",
         "159000",
         "2144",
         "Pave",
         null,
         "CulDSac",
         "1Fam",
         "1.5Fin",
         "6",
         "7",
         "1958",
         "CBlock",
         "1444",
         "Y",
         "2",
         "0",
         "Attchd",
         "2",
         "389.0",
         "2007",
         "WD",
         "Normal",
         "277000"
        ],
        [
         "37",
         "7590",
         "1812",
         "Pave",
         null,
         "Inside",
         "1Fam",
         "2Story",
         "5",
         "5",
         "1962",
         "CBlock",
         "864",
         "Y",
         "2",
         "0",
         "Attchd",
         "1",
         "264.0",
         "2007",
         "WD",
         "Normal",
         "169500"
        ],
        [
         "38",
         "10264",
         "1588",
         "Pave",
         null,
         "Inside",
         "1Fam",
         "1Story",
         "7",
         "5",
         "1999",
         "PConc",
         "1588",
         "Y",
         "2",
         "0",
         "Attchd",
         "2",
         "472.0",
         "2006",
         "WD",
         "Normal",
         "214000"
        ],
        [
         "39",
         "11120",
         "1232",
         "Pave",
         null,
         "CulDSac",
         "1Fam",
         "1Story",
         "6",
         "6",
         "1984",
         "PConc",
         "1232",
         "Y",
         "2",
         "0",
         "Attchd",
         "2",
         null,
         "2008",
         "WD",
         "Normal",
         "162500"
        ],
        [
         "40",
         "12798",
         "1688",
         "Pave",
         null,
         "Inside",
         "1Fam",
         "2Story",
         "6",
         "5",
         "1997",
         "PConc",
         "616",
         "Y",
         "2",
         "1",
         "Attchd",
         "2",
         "603.0",
         "2008",
         "WD",
         "Normal",
         "200000"
        ],
        [
         "41",
         "7875",
         "1144",
         "Pave",
         null,
         "Inside",
         "1Fam",
         "1Story",
         "5",
         "6",
         "1961",
         "CBlock",
         "1144",
         "Y",
         "1",
         "0",
         "Attchd",
         "2",
         "456.0",
         "2008",
         "WD",
         "Normal",
         "139950"
        ],
        [
         "42",
         "10994",
         "1844",
         "Pave",
         null,
         "Corner",
         "1Fam",
         "1Story",
         "8",
         "5",
         "2005",
         "PConc",
         "1844",
         "Y",
         "2",
         "0",
         "Attchd",
         "2",
         "620.0",
         "2009",
         "COD",
         "Abnorml",
         "257000"
        ],
        [
         "43",
         "8471",
         "1212",
         "Pave",
         null,
         "Corner",
         "1Fam",
         "SLvl",
         "6",
         "7",
         "1977",
         "CBlock",
         "506",
         "Y",
         "1",
         "0",
         "Attchd",
         "2",
         "492.0",
         "2006",
         "WD",
         "Normal",
         "151000"
        ],
        [
         "44",
         "4435",
         "848",
         "Pave",
         null,
         "Inside",
         "TwnhsE",
         "1Story",
         "6",
         "5",
         "2003",
         "PConc",
         "848",
         "Y",
         "1",
         "0",
         "Attchd",
         "2",
         "420.0",
         "2007",
         "WD",
         "Normal",
         "131500"
        ],
        [
         "45",
         "11500",
         "845",
         "Pave",
         null,
         "CulDSac",
         "1Fam",
         "1Story",
         "4",
         "3",
         "1957",
         "Slab",
         "0",
         "N",
         "1",
         "0",
         "Detchd",
         "1",
         "290.0",
         "2009",
         "WD",
         "Normal",
         "84000"
        ],
        [
         "46",
         "5825",
         "747",
         "Pave",
         null,
         "Inside",
         "1Fam",
         "1Story",
         "4",
         "5",
         "1926",
         "PConc",
         "600",
         "Y",
         "1",
         "0",
         "Detchd",
         "2",
         "528.0",
         "2006",
         "WD",
         "Normal",
         "79900"
        ],
        [
         "47",
         "9786",
         "1077",
         "Pave",
         null,
         "Inside",
         "1Fam",
         "1Story",
         "3",
         "4",
         "1922",
         "BrkTil",
         "1007",
         "N",
         "1",
         "0",
         "Detchd",
         "1",
         "210.0",
         "2006",
         "WD",
         "Normal",
         "91000"
        ],
        [
         "48",
         "11838",
         "1788",
         "Pave",
         null,
         "Inside",
         "1Fam",
         "1Story",
         "8",
         "5",
         "2001",
         "PConc",
         "1753",
         "Y",
         "2",
         "0",
         "Attchd",
         "2",
         "522.0",
         "2009",
         "WD",
         "Normal",
         "236500"
        ],
        [
         "49",
         "10998",
         "1604",
         "Pave",
         "Grvl",
         "Inside",
         "1Fam",
         "1.5Fin",
         "5",
         "5",
         "1941",
         "CBlock",
         "984",
         "Y",
         "2",
         "0",
         "Detchd",
         "2",
         "660.0",
         "2009",
         "WD",
         "Normal",
         "117000"
        ]
       ],
       "shape": {
        "columns": 22,
        "rows": 1460
       }
      },
      "text/html": [
       "<div>\n",
       "<style scoped>\n",
       "    .dataframe tbody tr th:only-of-type {\n",
       "        vertical-align: middle;\n",
       "    }\n",
       "\n",
       "    .dataframe tbody tr th {\n",
       "        vertical-align: top;\n",
       "    }\n",
       "\n",
       "    .dataframe thead th {\n",
       "        text-align: right;\n",
       "    }\n",
       "</style>\n",
       "<table border=\"1\" class=\"dataframe\">\n",
       "  <thead>\n",
       "    <tr style=\"text-align: right;\">\n",
       "      <th></th>\n",
       "      <th>LotArea</th>\n",
       "      <th>GrLivArea</th>\n",
       "      <th>Street</th>\n",
       "      <th>Alley</th>\n",
       "      <th>LotType</th>\n",
       "      <th>BldgType</th>\n",
       "      <th>HouseStyle</th>\n",
       "      <th>OverallQuality</th>\n",
       "      <th>OverallCondition</th>\n",
       "      <th>YearBuilt</th>\n",
       "      <th>...</th>\n",
       "      <th>CentralAir</th>\n",
       "      <th>FullBath</th>\n",
       "      <th>HalfBath</th>\n",
       "      <th>GarageType</th>\n",
       "      <th>GarageCars</th>\n",
       "      <th>GarageArea</th>\n",
       "      <th>YearSold</th>\n",
       "      <th>SaleType</th>\n",
       "      <th>SaleCondition</th>\n",
       "      <th>SalePrice</th>\n",
       "    </tr>\n",
       "  </thead>\n",
       "  <tbody>\n",
       "    <tr>\n",
       "      <th>0</th>\n",
       "      <td>8910</td>\n",
       "      <td>1194</td>\n",
       "      <td>Pave</td>\n",
       "      <td>NaN</td>\n",
       "      <td>Corner</td>\n",
       "      <td>1Fam</td>\n",
       "      <td>1Fam</td>\n",
       "      <td>6</td>\n",
       "      <td>6</td>\n",
       "      <td>1959</td>\n",
       "      <td>...</td>\n",
       "      <td>Y</td>\n",
       "      <td>1</td>\n",
       "      <td>0</td>\n",
       "      <td>BuiltIn</td>\n",
       "      <td>2</td>\n",
       "      <td>539.0</td>\n",
       "      <td>2006</td>\n",
       "      <td>WD</td>\n",
       "      <td>Normal</td>\n",
       "      <td>159500</td>\n",
       "    </tr>\n",
       "    <tr>\n",
       "      <th>1</th>\n",
       "      <td>1526</td>\n",
       "      <td>630</td>\n",
       "      <td>Pave</td>\n",
       "      <td>NaN</td>\n",
       "      <td>Inside</td>\n",
       "      <td>Twnhs</td>\n",
       "      <td>SFoyer</td>\n",
       "      <td>4</td>\n",
       "      <td>8</td>\n",
       "      <td>1970</td>\n",
       "      <td>...</td>\n",
       "      <td>Y</td>\n",
       "      <td>1</td>\n",
       "      <td>0</td>\n",
       "      <td>Attchd</td>\n",
       "      <td>1</td>\n",
       "      <td>286.0</td>\n",
       "      <td>2009</td>\n",
       "      <td>WD</td>\n",
       "      <td>Normal</td>\n",
       "      <td>86000</td>\n",
       "    </tr>\n",
       "    <tr>\n",
       "      <th>2</th>\n",
       "      <td>14598</td>\n",
       "      <td>1933</td>\n",
       "      <td>Pave</td>\n",
       "      <td>NaN</td>\n",
       "      <td>CulDSac</td>\n",
       "      <td>1Fam</td>\n",
       "      <td>2Story</td>\n",
       "      <td>6</td>\n",
       "      <td>5</td>\n",
       "      <td>2007</td>\n",
       "      <td>...</td>\n",
       "      <td>Y</td>\n",
       "      <td>2</td>\n",
       "      <td>1</td>\n",
       "      <td>BuiltIn</td>\n",
       "      <td>3</td>\n",
       "      <td>668.0</td>\n",
       "      <td>2008</td>\n",
       "      <td>WD</td>\n",
       "      <td>Normal</td>\n",
       "      <td>214000</td>\n",
       "    </tr>\n",
       "    <tr>\n",
       "      <th>3</th>\n",
       "      <td>7200</td>\n",
       "      <td>1040</td>\n",
       "      <td>Pave</td>\n",
       "      <td>NaN</td>\n",
       "      <td>Inside</td>\n",
       "      <td>Duplex</td>\n",
       "      <td>1Story</td>\n",
       "      <td>4</td>\n",
       "      <td>5</td>\n",
       "      <td>1949</td>\n",
       "      <td>...</td>\n",
       "      <td>N</td>\n",
       "      <td>2</td>\n",
       "      <td>0</td>\n",
       "      <td>Detchd</td>\n",
       "      <td>2</td>\n",
       "      <td>420.0</td>\n",
       "      <td>2009</td>\n",
       "      <td>WD</td>\n",
       "      <td>Normal</td>\n",
       "      <td>90000</td>\n",
       "    </tr>\n",
       "    <tr>\n",
       "      <th>4</th>\n",
       "      <td>5687</td>\n",
       "      <td>1716</td>\n",
       "      <td>Pave</td>\n",
       "      <td>Grvl</td>\n",
       "      <td>Inside</td>\n",
       "      <td>2fmCon</td>\n",
       "      <td>2Story</td>\n",
       "      <td>5</td>\n",
       "      <td>6</td>\n",
       "      <td>1912</td>\n",
       "      <td>...</td>\n",
       "      <td>N</td>\n",
       "      <td>2</td>\n",
       "      <td>0</td>\n",
       "      <td>NaN</td>\n",
       "      <td>0</td>\n",
       "      <td>0.0</td>\n",
       "      <td>2008</td>\n",
       "      <td>WD</td>\n",
       "      <td>Normal</td>\n",
       "      <td>135900</td>\n",
       "    </tr>\n",
       "    <tr>\n",
       "      <th>...</th>\n",
       "      <td>...</td>\n",
       "      <td>...</td>\n",
       "      <td>...</td>\n",
       "      <td>...</td>\n",
       "      <td>...</td>\n",
       "      <td>...</td>\n",
       "      <td>...</td>\n",
       "      <td>...</td>\n",
       "      <td>...</td>\n",
       "      <td>...</td>\n",
       "      <td>...</td>\n",
       "      <td>...</td>\n",
       "      <td>...</td>\n",
       "      <td>...</td>\n",
       "      <td>...</td>\n",
       "      <td>...</td>\n",
       "      <td>...</td>\n",
       "      <td>...</td>\n",
       "      <td>...</td>\n",
       "      <td>...</td>\n",
       "      <td>...</td>\n",
       "    </tr>\n",
       "    <tr>\n",
       "      <th>1455</th>\n",
       "      <td>6000</td>\n",
       "      <td>960</td>\n",
       "      <td>Pave</td>\n",
       "      <td>NaN</td>\n",
       "      <td>Inside</td>\n",
       "      <td>1Fam</td>\n",
       "      <td>1Story</td>\n",
       "      <td>4</td>\n",
       "      <td>4</td>\n",
       "      <td>1920</td>\n",
       "      <td>...</td>\n",
       "      <td>Y</td>\n",
       "      <td>1</td>\n",
       "      <td>0</td>\n",
       "      <td>Detchd</td>\n",
       "      <td>1</td>\n",
       "      <td>308.0</td>\n",
       "      <td>2007</td>\n",
       "      <td>WD</td>\n",
       "      <td>Normal</td>\n",
       "      <td>108500</td>\n",
       "    </tr>\n",
       "    <tr>\n",
       "      <th>1456</th>\n",
       "      <td>12150</td>\n",
       "      <td>1795</td>\n",
       "      <td>Pave</td>\n",
       "      <td>Grvl</td>\n",
       "      <td>Inside</td>\n",
       "      <td>1Fam</td>\n",
       "      <td>1.5Fin</td>\n",
       "      <td>5</td>\n",
       "      <td>5</td>\n",
       "      <td>1954</td>\n",
       "      <td>...</td>\n",
       "      <td>N</td>\n",
       "      <td>2</td>\n",
       "      <td>0</td>\n",
       "      <td>Attchd</td>\n",
       "      <td>1</td>\n",
       "      <td>352.0</td>\n",
       "      <td>2008</td>\n",
       "      <td>WD</td>\n",
       "      <td>Normal</td>\n",
       "      <td>131500</td>\n",
       "    </tr>\n",
       "    <tr>\n",
       "      <th>1457</th>\n",
       "      <td>10200</td>\n",
       "      <td>1086</td>\n",
       "      <td>Pave</td>\n",
       "      <td>NaN</td>\n",
       "      <td>Inside</td>\n",
       "      <td>1Fam</td>\n",
       "      <td>1Story</td>\n",
       "      <td>5</td>\n",
       "      <td>7</td>\n",
       "      <td>1954</td>\n",
       "      <td>...</td>\n",
       "      <td>Y</td>\n",
       "      <td>1</td>\n",
       "      <td>0</td>\n",
       "      <td>Attchd</td>\n",
       "      <td>2</td>\n",
       "      <td>490.0</td>\n",
       "      <td>2010</td>\n",
       "      <td>WD</td>\n",
       "      <td>Normal</td>\n",
       "      <td>144900</td>\n",
       "    </tr>\n",
       "    <tr>\n",
       "      <th>1458</th>\n",
       "      <td>8400</td>\n",
       "      <td>841</td>\n",
       "      <td>Pave</td>\n",
       "      <td>NaN</td>\n",
       "      <td>Inside</td>\n",
       "      <td>1Fam</td>\n",
       "      <td>1Story</td>\n",
       "      <td>4</td>\n",
       "      <td>4</td>\n",
       "      <td>1950</td>\n",
       "      <td>...</td>\n",
       "      <td>Y</td>\n",
       "      <td>1</td>\n",
       "      <td>0</td>\n",
       "      <td>CarPort</td>\n",
       "      <td>1</td>\n",
       "      <td>294.0</td>\n",
       "      <td>2009</td>\n",
       "      <td>WD</td>\n",
       "      <td>Normal</td>\n",
       "      <td>82000</td>\n",
       "    </tr>\n",
       "    <tr>\n",
       "      <th>1459</th>\n",
       "      <td>12400</td>\n",
       "      <td>1215</td>\n",
       "      <td>Pave</td>\n",
       "      <td>NaN</td>\n",
       "      <td>Inside</td>\n",
       "      <td>1Fam</td>\n",
       "      <td>1Story</td>\n",
       "      <td>6</td>\n",
       "      <td>7</td>\n",
       "      <td>1958</td>\n",
       "      <td>...</td>\n",
       "      <td>Y</td>\n",
       "      <td>1</td>\n",
       "      <td>0</td>\n",
       "      <td>Attchd</td>\n",
       "      <td>1</td>\n",
       "      <td>297.0</td>\n",
       "      <td>2009</td>\n",
       "      <td>WD</td>\n",
       "      <td>Normal</td>\n",
       "      <td>155000</td>\n",
       "    </tr>\n",
       "  </tbody>\n",
       "</table>\n",
       "<p>1460 rows × 22 columns</p>\n",
       "</div>"
      ],
      "text/plain": [
       "      LotArea  GrLivArea Street Alley  LotType BldgType HouseStyle  \\\n",
       "0        8910       1194   Pave   NaN   Corner     1Fam       1Fam   \n",
       "1        1526        630   Pave   NaN   Inside    Twnhs     SFoyer   \n",
       "2       14598       1933   Pave   NaN  CulDSac     1Fam     2Story   \n",
       "3        7200       1040   Pave   NaN   Inside   Duplex     1Story   \n",
       "4        5687       1716   Pave  Grvl   Inside   2fmCon     2Story   \n",
       "...       ...        ...    ...   ...      ...      ...        ...   \n",
       "1455     6000        960   Pave   NaN   Inside     1Fam     1Story   \n",
       "1456    12150       1795   Pave  Grvl   Inside     1Fam     1.5Fin   \n",
       "1457    10200       1086   Pave   NaN   Inside     1Fam     1Story   \n",
       "1458     8400        841   Pave   NaN   Inside     1Fam     1Story   \n",
       "1459    12400       1215   Pave   NaN   Inside     1Fam     1Story   \n",
       "\n",
       "      OverallQuality  OverallCondition  YearBuilt  ... CentralAir  FullBath  \\\n",
       "0                  6                 6       1959  ...          Y         1   \n",
       "1                  4                 8       1970  ...          Y         1   \n",
       "2                  6                 5       2007  ...          Y         2   \n",
       "3                  4                 5       1949  ...          N         2   \n",
       "4                  5                 6       1912  ...          N         2   \n",
       "...              ...               ...        ...  ...        ...       ...   \n",
       "1455               4                 4       1920  ...          Y         1   \n",
       "1456               5                 5       1954  ...          N         2   \n",
       "1457               5                 7       1954  ...          Y         1   \n",
       "1458               4                 4       1950  ...          Y         1   \n",
       "1459               6                 7       1958  ...          Y         1   \n",
       "\n",
       "     HalfBath  GarageType  GarageCars GarageArea  YearSold  SaleType  \\\n",
       "0           0     BuiltIn           2      539.0      2006        WD   \n",
       "1           0      Attchd           1      286.0      2009        WD   \n",
       "2           1     BuiltIn           3      668.0      2008        WD   \n",
       "3           0      Detchd           2      420.0      2009        WD   \n",
       "4           0         NaN           0        0.0      2008        WD   \n",
       "...       ...         ...         ...        ...       ...       ...   \n",
       "1455        0      Detchd           1      308.0      2007        WD   \n",
       "1456        0      Attchd           1      352.0      2008        WD   \n",
       "1457        0      Attchd           2      490.0      2010        WD   \n",
       "1458        0     CarPort           1      294.0      2009        WD   \n",
       "1459        0      Attchd           1      297.0      2009        WD   \n",
       "\n",
       "      SaleCondition SalePrice  \n",
       "0            Normal    159500  \n",
       "1            Normal     86000  \n",
       "2            Normal    214000  \n",
       "3            Normal     90000  \n",
       "4            Normal    135900  \n",
       "...             ...       ...  \n",
       "1455         Normal    108500  \n",
       "1456         Normal    131500  \n",
       "1457         Normal    144900  \n",
       "1458         Normal     82000  \n",
       "1459         Normal    155000  \n",
       "\n",
       "[1460 rows x 22 columns]"
      ]
     },
     "execution_count": 21,
     "metadata": {},
     "output_type": "execute_result"
    }
   ],
   "source": [
    "data = pd.DataFrame(data, columns=data.columns, index=data.index)\n",
    "data"
   ]
  },
  {
   "cell_type": "code",
   "execution_count": 26,
   "id": "68a2a416",
   "metadata": {},
   "outputs": [
    {
     "name": "stdout",
     "output_type": "stream",
     "text": [
      "Column Street is of type object\n",
      "Column Alley is of type object\n",
      "Column LotType is of type object\n",
      "Column BldgType is of type object\n",
      "Column HouseStyle is of type object\n",
      "Column Foundation is of type object\n",
      "Column CentralAir is of type object\n",
      "Column GarageType is of type object\n",
      "Column SaleType is of type object\n",
      "Column SaleCondition is of type object\n"
     ]
    }
   ],
   "source": [
    "for col in data.columns:\n",
    "    if data[col].dtype == \"object\":\n",
    "        print(f\"Column {col} is of type {data[col].dtype}\")"
   ]
  },
  {
   "cell_type": "code",
   "execution_count": 33,
   "id": "a5b6f2ec",
   "metadata": {},
   "outputs": [
    {
     "data": {
      "text/plain": [
       "Street\n",
       "Pave    1454\n",
       "Grvl       6\n",
       "Name: count, dtype: int64"
      ]
     },
     "execution_count": 33,
     "metadata": {},
     "output_type": "execute_result"
    }
   ],
   "source": [
    "streets = data[\"Street\"].value_counts()\n",
    "streets"
   ]
  },
  {
   "cell_type": "markdown",
   "id": "a8984c36",
   "metadata": {},
   "source": [
    "#### We can see that the number of missing values for the alley feature is too high. We can drop this feature from the dataset.\n",
    "\n",
    "####  from what we can see here , YearSold and OverallCondition are independently weakly correlated with SalePrice so we could drop them but we must be carefull because there might be an hidden variable that combined with those variables create a correlation\n",
    "\n",
    "#### the feature \"Street\" can be useless because it has only two values and one of them is very rare"
   ]
  },
  {
   "cell_type": "code",
   "execution_count": 35,
   "id": "8c545335",
   "metadata": {},
   "outputs": [
    {
     "data": {
      "text/plain": [
       "Alley\n",
       "Grvl    50\n",
       "Pave    41\n",
       "Name: count, dtype: int64"
      ]
     },
     "execution_count": 35,
     "metadata": {},
     "output_type": "execute_result"
    }
   ],
   "source": [
    "alleys = data[\"Alley\"].value_counts()\n",
    "alleys"
   ]
  },
  {
   "cell_type": "markdown",
   "id": "fc63120f",
   "metadata": {},
   "source": [
    "#### We can see that the number of missing values for the alley feature is too high. We can drop this feature from the dataset.\n",
    "\n",
    "####  from what we can see here , YearSold and OverallCondition are independently weakly correlated with SalePrice so we could drop them but we must be carefull because there might be an hidden variable that combined with those variables create a correlation\n",
    "\n",
    "#### the feature \"Street\" can be useless because it has only two values and one of them is very rare\n",
    "\n",
    "#### the feature Alley seems like the Street so we can merge both to see if there is any persistency but even in this case we see the number of values Grvl are differents"
   ]
  },
  {
   "cell_type": "code",
   "execution_count": 36,
   "id": "3c992939",
   "metadata": {},
   "outputs": [
    {
     "data": {
      "text/plain": [
       "LotType\n",
       "Inside     1052\n",
       "Corner      263\n",
       "CulDSac      94\n",
       "FR2          47\n",
       "FR3           4\n",
       "Name: count, dtype: int64"
      ]
     },
     "execution_count": 36,
     "metadata": {},
     "output_type": "execute_result"
    }
   ],
   "source": [
    "lotTypes = data[\"LotType\"].value_counts()\n",
    "lotTypes"
   ]
  },
  {
   "cell_type": "code",
   "execution_count": 82,
   "id": "547df02c",
   "metadata": {},
   "outputs": [
    {
     "data": {
      "image/png": "[encoded data removed]",
      "text/plain": [
       "<Figure size 800x500 with 1 Axes>"
      ]
     },
     "metadata": {},
     "output_type": "display_data"
    }
   ],
   "source": [
    "import matplotlib.pyplot as plt\n",
    "import seaborn as sns\n",
    "\n",
    "\n",
    "plt.figure(figsize=(8, 5))\n",
    "\n",
    "\n",
    "sns.barplot(data=data, x='LotType', y='SalePrice', hue='LotType', estimator='mean', errorbar=None, legend=False)\n",
    "\n",
    "\n",
    "plt.title('Mean SalePrice per LotType')\n",
    "plt.xlabel('LotType')\n",
    "plt.ylabel('Mean SalePrice')\n",
    "plt.xticks(rotation=45)\n",
    "plt.tight_layout()\n",
    "\n",
    "\n",
    "plt.show()\n"
   ]
  },
  {
   "cell_type": "code",
   "execution_count": 89,
   "id": "0d06a465",
   "metadata": {},
   "outputs": [
    {
     "data": {
      "image/png": "[encoded data removed]",
      "text/plain": [
       "<Figure size 1000x600 with 1 Axes>"
      ]
     },
     "metadata": {},
     "output_type": "display_data"
    }
   ],
   "source": [
    "\n",
    "plt.figure(figsize=(10, 6))\n",
    "sns.boxplot(data=data, x='LotType', y='SalePrice', hue='LotType',legend=False)\n",
    "\n",
    "plt.title('Distribution of SalePrice par LotType')\n",
    "plt.xlabel('LotType')\n",
    "plt.ylabel('SalePrice')\n",
    "plt.tight_layout()\n",
    "plt.show()"
   ]
  },
  {
   "cell_type": "code",
   "execution_count": 37,
   "id": "4e202ddb",
   "metadata": {},
   "outputs": [
    {
     "data": {
      "text/plain": [
       "BldgType\n",
       "1Fam      1220\n",
       "TwnhsE     114\n",
       "Duplex      52\n",
       "Twnhs       43\n",
       "2fmCon      31\n",
       "Name: count, dtype: int64"
      ]
     },
     "execution_count": 37,
     "metadata": {},
     "output_type": "execute_result"
    }
   ],
   "source": [
    "BldgType = data[\"BldgType\"].value_counts()\n",
    "BldgType"
   ]
  },
  {
   "cell_type": "code",
   "execution_count": 92,
   "id": "4b4025dd",
   "metadata": {},
   "outputs": [
    {
     "data": {
      "image/png": "[encoded data removed]",
      "text/plain": [
       "<Figure size 1000x600 with 1 Axes>"
      ]
     },
     "metadata": {},
     "output_type": "display_data"
    }
   ],
   "source": [
    "import seaborn as sns\n",
    "import matplotlib.pyplot as plt\n",
    "\n",
    "\n",
    "plt.figure(figsize=(10, 6))\n",
    "sns.boxplot(data=data, x='BldgType', y='SalePrice', hue='BldgType',legend=False)\n",
    "\n",
    "plt.title('Distribution of SalePrice par BldgType')\n",
    "plt.xlabel('BldgType')\n",
    "plt.ylabel('SalePrice')\n",
    "plt.tight_layout()\n",
    "plt.show()"
   ]
  },
  {
   "cell_type": "code",
   "execution_count": 38,
   "id": "f1af0a87",
   "metadata": {},
   "outputs": [
    {
     "data": {
      "text/plain": [
       "HouseStyle\n",
       "1Story    725\n",
       "2Story    445\n",
       "1.5Fin    154\n",
       "SLvl       65\n",
       "SFoyer     37\n",
       "1.5Unf     14\n",
       "2.5Unf     11\n",
       "2.5Fin      8\n",
       "1Fam        1\n",
       "Name: count, dtype: int64"
      ]
     },
     "execution_count": 38,
     "metadata": {},
     "output_type": "execute_result"
    }
   ],
   "source": [
    "HouseStyle = data[\"HouseStyle\"].value_counts()\n",
    "HouseStyle"
   ]
  },
  {
   "cell_type": "code",
   "execution_count": null,
   "id": "74264acf",
   "metadata": {},
   "outputs": [
    {
     "data": {
      "text/plain": [
       "Foundation\n",
       "PConc                                 615\n",
       "CBlock                                585\n",
       "BrkTil                                144\n",
       "Do Not use this Field in the Model     84\n",
       "Slab                                   23\n",
       "Stone                                   6\n",
       "Wood                                    3\n",
       "Name: count, dtype: int64"
      ]
     },
     "execution_count": 39,
     "metadata": {},
     "output_type": "execute_result"
    }
   ],
   "source": [
    "Foundation = data[\"Foundation\"].value_counts()\n",
    "Foundation"
   ]
  },
  {
   "cell_type": "markdown",
   "id": "40574555",
   "metadata": {},
   "source": [
    "#### We can see that the number of missing values for the alley feature is too high. We can drop this feature from the dataset.\n",
    "\n",
    "####  from what we can see here , YearSold and OverallCondition are independently weakly correlated with SalePrice so we could drop them but we must be carefull because there might be an hidden variable that combined with those variables create a correlation\n",
    "\n",
    "#### the feature \"Street\" can be useless because it has only two values and one of them is very rare\n",
    "\n",
    "#### there is a metadata who tells me not to use Foundation in the model so i will not use it"
   ]
  },
  {
   "cell_type": "code",
   "execution_count": 41,
   "id": "e02f80dd",
   "metadata": {},
   "outputs": [
    {
     "data": {
      "text/plain": [
       "CentralAir\n",
       "Y    1365\n",
       "N      95\n",
       "Name: count, dtype: int64"
      ]
     },
     "execution_count": 41,
     "metadata": {},
     "output_type": "execute_result"
    }
   ],
   "source": [
    "CentralAir = data[\"CentralAir\"].value_counts()\n",
    "CentralAir"
   ]
  },
  {
   "cell_type": "markdown",
   "id": "57167dfc",
   "metadata": {},
   "source": [
    "#### We can see that the number of missing values for the alley feature is too high. We can drop this feature from the dataset.\n",
    "\n",
    "####  from what we can see here , YearSold and OverallCondition are independently weakly correlated with SalePrice so we could drop them but we must be carefull because there might be an hidden variable that combined with those variables create a correlation\n",
    "\n",
    "#### the feature \"Street\" can be useless because it has only two values and one of them is very rare\n",
    "\n",
    "#### there is a metadata who tells me not to use Foundation in the model so i will not use it\n",
    "\n",
    "#### I will not use the CentralAir feature because of the class imbalance "
   ]
  },
  {
   "cell_type": "code",
   "execution_count": 42,
   "id": "ca877c63",
   "metadata": {},
   "outputs": [
    {
     "data": {
      "text/plain": [
       "GarageType\n",
       "Attchd     870\n",
       "Detchd     387\n",
       "BuiltIn     88\n",
       "Basment     19\n",
       "CarPort      9\n",
       "2Types       6\n",
       "Name: count, dtype: int64"
      ]
     },
     "execution_count": 42,
     "metadata": {},
     "output_type": "execute_result"
    }
   ],
   "source": [
    "GarageType = data[\"GarageType\"].value_counts()\n",
    "GarageType"
   ]
  },
  {
   "cell_type": "code",
   "execution_count": 44,
   "id": "f1b5b18b",
   "metadata": {},
   "outputs": [
    {
     "data": {
      "text/plain": [
       "SaleType\n",
       "WD       1267\n",
       "New       122\n",
       "COD        43\n",
       "ConLD       9\n",
       "ConLI       5\n",
       "ConLw       5\n",
       "CWD         4\n",
       "Oth         3\n",
       "Con         2\n",
       "Name: count, dtype: int64"
      ]
     },
     "execution_count": 44,
     "metadata": {},
     "output_type": "execute_result"
    }
   ],
   "source": [
    "SaleType  = data[\"SaleType\"].value_counts()\n",
    "SaleType"
   ]
  },
  {
   "cell_type": "markdown",
   "id": "11ca7421",
   "metadata": {},
   "source": [
    "#### We can see that the number of missing values for the alley feature is too high. We can drop this feature from the dataset.\n",
    "\n",
    "####  from what we can see here , YearSold and OverallCondition are independently weakly correlated with SalePrice so we could drop them but we must be carefull because there might be an hidden variable that combined with those variables create a correlation\n",
    "\n",
    "#### the feature \"Street\" can be useless because it has only two values and one of them is very rare\n",
    "\n",
    "#### there is a metadata who tells me not to use Foundation in the model so i will not use it\n",
    "\n",
    "#### I will not use the CentralAir feature because of the class imbalance \n",
    "\n",
    "#### I could drop the SaleType column beacause of the class imbalance but as there are many values in the SaleType column, I will keep it for now."
   ]
  },
  {
   "cell_type": "code",
   "execution_count": 45,
   "id": "00d5a0a2",
   "metadata": {},
   "outputs": [
    {
     "data": {
      "text/plain": [
       "SaleCondition\n",
       "Normal     1017\n",
       "normal      181\n",
       "Partial     125\n",
       "Abnorml     101\n",
       "Family       20\n",
       "Alloca       12\n",
       "AdjLand       4\n",
       "Name: count, dtype: int64"
      ]
     },
     "execution_count": 45,
     "metadata": {},
     "output_type": "execute_result"
    }
   ],
   "source": [
    "SaleCondition = data[\"SaleCondition\"].value_counts()\n",
    "SaleCondition"
   ]
  },
  {
   "cell_type": "markdown",
   "id": "24ad0518",
   "metadata": {},
   "source": [
    "#### We can see that the number of missing values for the alley feature is too high. We can drop this feature from the dataset.\n",
    "\n",
    "####  from what we can see here , YearSold and OverallCondition are independently weakly correlated with SalePrice so we could drop them but we must be carefull because there might be an hidden variable that combined with those variables create a correlation\n",
    "\n",
    "#### the feature \"Street\" can be useless because it has only two values and one of them is very rare\n",
    "\n",
    "#### there is a metadata who tells me not to use Foundation in the model so i will not use it\n",
    "\n",
    "#### I will not use the CentralAir feature because of the class imbalance \n",
    "\n",
    "#### I could drop the SaleType column beacause of the class imbalance but as there are many values in the SaleType column, I will keep it for now.\n",
    "\n",
    "#### for the SaleCondition column, we can see that there are 2 values which are the same but written differently.(Normal and normal) we will take the value Normal to respect the first letter Uppercase of other values"
   ]
  },
  {
   "cell_type": "code",
   "execution_count": 46,
   "id": "f35071ed",
   "metadata": {},
   "outputs": [
    {
     "name": "stdout",
     "output_type": "stream",
     "text": [
      "Column LotArea is of type int64\n",
      "Column GrLivArea is of type int64\n",
      "Column OverallQuality is of type int64\n",
      "Column OverallCondition is of type int64\n",
      "Column YearBuilt is of type int64\n",
      "Column TotalBsmtSF is of type int64\n",
      "Column FullBath is of type int64\n",
      "Column HalfBath is of type int64\n",
      "Column GarageCars is of type int64\n",
      "Column GarageArea is of type float64\n",
      "Column YearSold is of type int64\n",
      "Column SalePrice is of type int64\n"
     ]
    }
   ],
   "source": [
    "for col in data.columns:\n",
    "    if data[col].dtype != \"object\":\n",
    "        print(f\"Column {col} is of type {data[col].dtype}\")"
   ]
  },
  {
   "cell_type": "code",
   "execution_count": 47,
   "id": "2f21a8ca",
   "metadata": {},
   "outputs": [
    {
     "data": {
      "text/plain": [
       "LotArea\n",
       "7200     25\n",
       "9600     24\n",
       "6000     17\n",
       "8400     14\n",
       "10800    14\n",
       "         ..\n",
       "13132     1\n",
       "2268      1\n",
       "14559     1\n",
       "2572      1\n",
       "8910      1\n",
       "Name: count, Length: 1073, dtype: int64"
      ]
     },
     "execution_count": 47,
     "metadata": {},
     "output_type": "execute_result"
    }
   ],
   "source": [
    "LotArea = data[\"LotArea\"].value_counts()\n",
    "LotArea"
   ]
  },
  {
   "cell_type": "code",
   "execution_count": 97,
   "id": "5be25e03",
   "metadata": {},
   "outputs": [
    {
     "data": {
      "text/plain": [
       "count      1460.000000\n",
       "mean      10516.828082\n",
       "std        9981.264932\n",
       "min        1300.000000\n",
       "25%        7553.500000\n",
       "50%        9478.500000\n",
       "75%       11601.500000\n",
       "max      215245.000000\n",
       "Name: LotArea, dtype: float64"
      ]
     },
     "execution_count": 97,
     "metadata": {},
     "output_type": "execute_result"
    }
   ],
   "source": [
    "data['LotArea'].describe()"
   ]
  },
  {
   "cell_type": "code",
   "execution_count": null,
   "id": "811a46cc",
   "metadata": {},
   "outputs": [
    {
     "data": {
      "image/png": "[encoded data removed]",
      "text/plain": [
       "<Figure size 1000x500 with 1 Axes>"
      ]
     },
     "metadata": {},
     "output_type": "display_data"
    }
   ],
   "source": [
    "import matplotlib.pyplot as plt\n",
    "import seaborn as sns\n",
    "\n",
    "plt.figure(figsize=(10,5))\n",
    "sns.histplot(data['LotArea'], bins=200, kde=True)\n",
    "plt.title(\"Distribution of LotArea\")\n",
    "plt.show()\n"
   ]
  },
  {
   "cell_type": "markdown",
   "id": "27391356",
   "metadata": {},
   "source": [
    "#### We can see that the number of missing values for the alley feature is too high. We can drop this feature from the dataset.\n",
    "\n",
    "####  from what we can see here , YearSold and OverallCondition are independently weakly correlated with SalePrice so we could drop them but we must be carefull because there might be an hidden variable that combined with those variables create a correlation\n",
    "\n",
    "#### the feature \"Street\" can be useless because it has only two values and one of them is very rare\n",
    "\n",
    "#### there is a metadata who tells me not to use Foundation in the model so i will not use it\n",
    "\n",
    "#### I will not use the CentralAir feature because of the class imbalance \n",
    "\n",
    "#### I could drop the SaleType column beacause of the class imbalance but as there are many values in the SaleType column, I will keep it for now.\n",
    "\n",
    "#### for the SaleCondition column, we can see that there are 2 values which are the same but written differently.(Normal and normal) we will take the value Normal to respect the first letter Uppercase of other values\n",
    "\n",
    "#### there are too many unique values in LotArea, so i will create bins for it"
   ]
  },
  {
   "cell_type": "code",
   "execution_count": 51,
   "id": "e364c146",
   "metadata": {},
   "outputs": [
    {
     "data": {
      "text/plain": [
       "GrLivArea\n",
       "864     22\n",
       "1040    14\n",
       "894     11\n",
       "848     10\n",
       "1456    10\n",
       "        ..\n",
       "1510     1\n",
       "2013     1\n",
       "1804     1\n",
       "2345     1\n",
       "1274     1\n",
       "Name: count, Length: 863, dtype: int64"
      ]
     },
     "execution_count": 51,
     "metadata": {},
     "output_type": "execute_result"
    }
   ],
   "source": [
    "GrLivAreas = data[\"GrLivArea\"].value_counts()\n",
    "GrLivAreas"
   ]
  },
  {
   "cell_type": "markdown",
   "id": "5e35bd49",
   "metadata": {},
   "source": [
    "#### We can see that the number of missing values for the alley feature is too high. We can drop this feature from the dataset.\n",
    "\n",
    "####  from what we can see here , YearSold and OverallCondition are independently weakly correlated with SalePrice so we could drop them but we must be carefull because there might be an hidden variable that combined with those variables create a correlation\n",
    "\n",
    "#### the feature \"Street\" can be useless because it has only two values and one of them is very rare\n",
    "\n",
    "#### there is a metadata who tells me not to use Foundation in the model so i will not use it\n",
    "\n",
    "#### I will not use the CentralAir feature because of the class imbalance \n",
    "\n",
    "#### I could drop the SaleType column beacause of the class imbalance but as there are many values in the SaleType column, I will keep it for now.\n",
    "\n",
    "#### for the SaleCondition column, we can see that there are 2 values which are the same but written differently.(Normal and normal) we will take the value Normal to respect the first letter Uppercase of other values\n",
    "\n",
    "#### there are too many unique values in LotArea, so i will create bins for it\n",
    "\n",
    "#### there are too many unique values in GrLivArea, so i will create bins for i"
   ]
  },
  {
   "cell_type": "code",
   "execution_count": 52,
   "id": "d9807bb5",
   "metadata": {},
   "outputs": [
    {
     "data": {
      "text/plain": [
       "OverallQuality\n",
       "5     397\n",
       "6     374\n",
       "7     319\n",
       "8     168\n",
       "4     116\n",
       "9      43\n",
       "3      20\n",
       "10     18\n",
       "2       3\n",
       "1       2\n",
       "Name: count, dtype: int64"
      ]
     },
     "execution_count": 52,
     "metadata": {},
     "output_type": "execute_result"
    }
   ],
   "source": [
    "OverallQuality = data[\"OverallQuality\"].value_counts()\n",
    "OverallQuality"
   ]
  },
  {
   "cell_type": "code",
   "execution_count": 53,
   "id": "f66cc57f",
   "metadata": {},
   "outputs": [
    {
     "data": {
      "text/plain": [
       "OverallCondition\n",
       "5    821\n",
       "6    252\n",
       "7    205\n",
       "8     72\n",
       "4     57\n",
       "3     25\n",
       "9     22\n",
       "2      5\n",
       "1      1\n",
       "Name: count, dtype: int64"
      ]
     },
     "execution_count": 53,
     "metadata": {},
     "output_type": "execute_result"
    }
   ],
   "source": [
    "OverallCondition = data[\"OverallCondition\"].value_counts()\n",
    "OverallCondition"
   ]
  },
  {
   "cell_type": "code",
   "execution_count": 54,
   "id": "58cb84bf",
   "metadata": {},
   "outputs": [
    {
     "data": {
      "text/plain": [
       "YearBuilt\n",
       "2006    67\n",
       "2005    64\n",
       "2004    54\n",
       "2007    49\n",
       "2003    45\n",
       "        ..\n",
       "1875     1\n",
       "1904     1\n",
       "1913     1\n",
       "1882     1\n",
       "2010     1\n",
       "Name: count, Length: 112, dtype: int64"
      ]
     },
     "execution_count": 54,
     "metadata": {},
     "output_type": "execute_result"
    }
   ],
   "source": [
    "YearBuilt = data[\"YearBuilt\"].value_counts()\n",
    "YearBuilt"
   ]
  },
  {
   "cell_type": "code",
   "execution_count": 55,
   "id": "83579a5d",
   "metadata": {},
   "outputs": [
    {
     "data": {
      "text/plain": [
       "TotalBsmtSF\n",
       "0       37\n",
       "864     35\n",
       "672     17\n",
       "912     15\n",
       "1040    14\n",
       "        ..\n",
       "792      1\n",
       "636      1\n",
       "844      1\n",
       "408      1\n",
       "718      1\n",
       "Name: count, Length: 721, dtype: int64"
      ]
     },
     "execution_count": 55,
     "metadata": {},
     "output_type": "execute_result"
    }
   ],
   "source": [
    "TotalBsmtSF = data[\"TotalBsmtSF\"].value_counts()\n",
    "TotalBsmtSF"
   ]
  },
  {
   "cell_type": "markdown",
   "id": "d040fcf6",
   "metadata": {},
   "source": [
    "#### We can see that the number of missing values for the alley feature is too high. We can drop this feature from the dataset.\n",
    "\n",
    "####  from what we can see here , YearSold and OverallCondition are independently weakly correlated with SalePrice so we could drop them but we must be carefull because there might be an hidden variable that combined with those variables create a correlation\n",
    "\n",
    "#### the feature \"Street\" can be useless because it has only two values and one of them is very rare\n",
    "\n",
    "#### there is a metadata who tells me not to use Foundation in the model so i will not use it\n",
    "\n",
    "#### I will not use the CentralAir feature because of the class imbalance \n",
    "\n",
    "#### I could drop the SaleType column beacause of the class imbalance but as there are many values in the SaleType column, I will keep it for now.\n",
    "\n",
    "#### for the SaleCondition column, we can see that there are 2 values which are the same but written differently.(Normal and normal) we will take the value Normal to respect the first letter Uppercase of other values\n",
    "\n",
    "#### there are too many unique values in LotArea, so i will create bins for it\n",
    "\n",
    "#### there are too many unique values in GrLivArea, so i will create bins for i\n",
    "\n",
    "#### for TotalBsmtSF i could also create bins to group the values into ranges"
   ]
  },
  {
   "cell_type": "code",
   "execution_count": 56,
   "id": "0cbeea56",
   "metadata": {},
   "outputs": [
    {
     "data": {
      "text/plain": [
       "FullBath\n",
       "2    768\n",
       "1    650\n",
       "3     33\n",
       "0      9\n",
       "Name: count, dtype: int64"
      ]
     },
     "execution_count": 56,
     "metadata": {},
     "output_type": "execute_result"
    }
   ],
   "source": [
    "FullBath = data[\"FullBath\"].value_counts()\n",
    "FullBath"
   ]
  },
  {
   "cell_type": "code",
   "execution_count": 57,
   "id": "8c09d5fd",
   "metadata": {},
   "outputs": [
    {
     "data": {
      "text/plain": [
       "HalfBath\n",
       "0    913\n",
       "1    535\n",
       "2     12\n",
       "Name: count, dtype: int64"
      ]
     },
     "execution_count": 57,
     "metadata": {},
     "output_type": "execute_result"
    }
   ],
   "source": [
    "HalfBath = data[\"HalfBath\"].value_counts()\n",
    "HalfBath"
   ]
  },
  {
   "cell_type": "markdown",
   "id": "fc44a5cd",
   "metadata": {},
   "source": [
    "#### We can see that the number of missing values for the alley feature is too high. We can drop this feature from the dataset.\n",
    "\n",
    "####  from what we can see here , YearSold and OverallCondition are independently weakly correlated with SalePrice so we could drop them but we must be carefull because there might be an hidden variable that combined with those variables create a correlation\n",
    "\n",
    "#### the feature \"Street\" can be useless because it has only two values and one of them is very rare\n",
    "\n",
    "#### there is a metadata who tells me not to use Foundation in the model so i will not use it\n",
    "\n",
    "#### I will not use the CentralAir feature because of the class imbalance \n",
    "\n",
    "#### I could drop the SaleType column beacause of the class imbalance but as there are many values in the SaleType column, I will keep it for now.\n",
    "\n",
    "#### for the SaleCondition column, we can see that there are 2 values which are the same but written differently.(Normal and normal) we will take the value Normal to respect the first letter Uppercase of other values\n",
    "\n",
    "#### there are too many unique values in LotArea, so i will create bins for it\n",
    "\n",
    "#### there are too many unique values in GrLivArea, so i will create bins for i\n",
    "\n",
    "#### for TotalBsmtSF i could also create bins to group the values into ranges\n",
    "\n",
    "#### we will see if we cannot combine FullBath and HalfBath into a single feature because they are both bathrooms and they look like they are related"
   ]
  },
  {
   "cell_type": "code",
   "execution_count": 58,
   "id": "0ff0766e",
   "metadata": {},
   "outputs": [
    {
     "data": {
      "text/plain": [
       "GarageCars\n",
       "2    824\n",
       "1    369\n",
       "3    181\n",
       "0     81\n",
       "4      5\n",
       "Name: count, dtype: int64"
      ]
     },
     "execution_count": 58,
     "metadata": {},
     "output_type": "execute_result"
    }
   ],
   "source": [
    "GarageCars = data[\"GarageCars\"].value_counts()\n",
    "GarageCars\n"
   ]
  },
  {
   "cell_type": "markdown",
   "id": "096d5613",
   "metadata": {},
   "source": [
    "#### We can see that the number of missing values for the alley feature is too high. We can drop this feature from the dataset.\n",
    "\n",
    "####  from what we can see here , YearSold and OverallCondition are independently weakly correlated with SalePrice so we could drop them but we must be carefull because there might be an hidden variable that combined with those variables create a correlation\n",
    "\n",
    "#### the feature \"Street\" can be useless because it has only two values and one of them is very rare\n",
    "\n",
    "#### there is a metadata who tells me not to use Foundation in the model so i will not use it\n",
    "\n",
    "#### I will not use the CentralAir feature because of the class imbalance \n",
    "\n",
    "#### I could drop the SaleType column beacause of the class imbalance but as there are many values in the SaleType column, I will keep it for now.\n",
    "\n",
    "#### for the SaleCondition column, we can see that there are 2 values which are the same but written differently.(Normal and normal) we will take the value Normal to respect the first letter Uppercase of other values\n",
    "\n",
    "#### there are too many unique values in LotArea, so i will create bins for it\n",
    "\n",
    "#### there are too many unique values in GrLivArea, so i will create bins for i\n",
    "\n",
    "#### for TotalBsmtSF i could also create bins to group the values into ranges\n",
    "\n",
    "#### we will see if we cannot combine FullBath and HalfBath into a single feature because they are both bathrooms and they look like they are related\n",
    "\n",
    "#### I could create bins for GarageCars "
   ]
  },
  {
   "cell_type": "code",
   "execution_count": 59,
   "id": "f1d3b817",
   "metadata": {},
   "outputs": [
    {
     "data": {
      "text/plain": [
       "GarageArea\n",
       "0.0      81\n",
       "440.0    49\n",
       "576.0    42\n",
       "240.0    37\n",
       "528.0    33\n",
       "         ..\n",
       "889.0     1\n",
       "689.0     1\n",
       "704.0     1\n",
       "748.0     1\n",
       "386.0     1\n",
       "Name: count, Length: 435, dtype: int64"
      ]
     },
     "execution_count": 59,
     "metadata": {},
     "output_type": "execute_result"
    }
   ],
   "source": [
    "GarageArea = data[\"GarageArea\"].value_counts()\n",
    "GarageArea\n"
   ]
  },
  {
   "cell_type": "markdown",
   "id": "f1eb3c66",
   "metadata": {},
   "source": [
    "#### We can see that the number of missing values for the alley feature is too high. We can drop this feature from the dataset.\n",
    "\n",
    "####  from what we can see here , YearSold and OverallCondition are independently weakly correlated with SalePrice so we could drop them but we must be carefull because there might be an hidden variable that combined with those variables create a correlation\n",
    "\n",
    "#### the feature \"Street\" can be useless because it has only two values and one of them is very rare\n",
    "\n",
    "#### there is a metadata who tells me not to use Foundation in the model so i will not use it\n",
    "\n",
    "#### I will not use the CentralAir feature because of the class imbalance \n",
    "\n",
    "#### I could drop the SaleType column beacause of the class imbalance but as there are many values in the SaleType column, I will keep it for now.\n",
    "\n",
    "#### for the SaleCondition column, we can see that there are 2 values which are the same but written differently.(Normal and normal) we will take the value Normal to respect the first letter Uppercase of other values\n",
    "\n",
    "#### there are too many unique values in LotArea, so i will create bins for it\n",
    "\n",
    "#### there are too many unique values in GrLivArea, so i will create bins for i\n",
    "\n",
    "#### for TotalBsmtSF i could also create bins to group the values into ranges\n",
    "\n",
    "#### we will see if we cannot combine FullBath and HalfBath into a single feature because they are both bathrooms and they look like they are related\n",
    "\n",
    "#### I could create bins for GarageCars \n",
    "\n",
    "#### create bins for GarageArea\n",
    "#### And maybe GarageCars and GarageArea are too correlated and we can drop one of them"
   ]
  },
  {
   "cell_type": "code",
   "execution_count": 60,
   "id": "55c5e5dc",
   "metadata": {},
   "outputs": [
    {
     "data": {
      "text/plain": [
       "YearSold\n",
       "2009    338\n",
       "2007    329\n",
       "2006    314\n",
       "2008    304\n",
       "2010    175\n",
       "Name: count, dtype: int64"
      ]
     },
     "execution_count": 60,
     "metadata": {},
     "output_type": "execute_result"
    }
   ],
   "source": [
    "\n",
    "yearSold = data[\"YearSold\"].value_counts()\n",
    "yearSold\n"
   ]
  },
  {
   "cell_type": "code",
   "execution_count": 61,
   "id": "d5b4d7b9",
   "metadata": {},
   "outputs": [
    {
     "data": {
      "text/plain": [
       "SalePrice\n",
       "140000    20\n",
       "135000    17\n",
       "155000    14\n",
       "145000    14\n",
       "110000    13\n",
       "          ..\n",
       "179540     1\n",
       "438780     1\n",
       "164990     1\n",
       "348000     1\n",
       "394432     1\n",
       "Name: count, Length: 663, dtype: int64"
      ]
     },
     "execution_count": 61,
     "metadata": {},
     "output_type": "execute_result"
    }
   ],
   "source": [
    "salePrice = data[\"SalePrice\"].value_counts()\n",
    "salePrice"
   ]
  },
  {
   "cell_type": "code",
   "execution_count": 63,
   "id": "e8924c14",
   "metadata": {},
   "outputs": [
    {
     "data": {
      "image/png": "[encoded data removed]",
      "text/plain": [
       "<Figure size 1200x1000 with 2 Axes>"
      ]
     },
     "metadata": {},
     "output_type": "display_data"
    }
   ],
   "source": [
    "# Calculate correlation matrix for numeric columns only\"\n",
    "correlation_matrix = data.corr(method='pearson', numeric_only=True)\n",
    "# Create a heatmap of correlations\"\n",
    "plt.figure(figsize=(12, 10))\n",
    "sns.heatmap(correlation_matrix, annot=True, cmap='coolwarm', center=0)\n",
    "plt.title('Correlation Matrix of Numeric Features')\n",
    "plt.show()"
   ]
  },
  {
   "cell_type": "code",
   "execution_count": 65,
   "id": "18ce0da8",
   "metadata": {},
   "outputs": [],
   "source": [
    "import numpy as np\n",
    "# Fonction pour calculer le correlation ratio (eta²)\n",
    "def correlation_ratio(categories, values):\n",
    "    fcat, _ = pd.factorize(categories)\n",
    "    cat_num = np.max(fcat) + 1\n",
    "    y_avg_array = np.zeros(cat_num)\n",
    "    n_array = np.zeros(cat_num)\n",
    "    for i in range(0, cat_num):\n",
    "        cat_measures = values[np.argwhere(fcat == i).flatten()]\n",
    "        n_array[i] = len(cat_measures)\n",
    "        y_avg_array[i] = np.mean(cat_measures)\n",
    "    y_total_avg = np.sum(y_avg_array * n_array) / np.sum(n_array)\n",
    "    numerator = np.sum(n_array * (y_avg_array - y_total_avg) ** 2)\n",
    "    denominator = np.sum((values - y_total_avg) ** 2)\n",
    "    if denominator == 0:\n",
    "        return 0.0\n",
    "    else:\n",
    "        eta = numerator / denominator\n",
    "        return eta\n"
   ]
  },
  {
   "cell_type": "code",
   "execution_count": 66,
   "id": "56d1bc0c",
   "metadata": {},
   "outputs": [
    {
     "name": "stdout",
     "output_type": "stream",
     "text": [
      "Foundation       0.248774\n",
      "GarageType       0.192481\n",
      "SaleType         0.137287\n",
      "SaleCondition    0.135736\n",
      "HouseStyle       0.086342\n",
      "CentralAir       0.063166\n",
      "BldgType         0.034534\n",
      "LotType          0.021019\n",
      "Alley            0.004169\n",
      "Street           0.001684\n",
      "dtype: float64\n"
     ]
    }
   ],
   "source": [
    "target = data[\"SalePrice\"]\n",
    "categorical_columns = data.select_dtypes(include=\"object\").columns\n",
    "\n",
    "cat_corr = {}\n",
    "for col in categorical_columns:\n",
    "    eta = correlation_ratio(data[col], target)\n",
    "    cat_corr[col] = eta\n",
    "\n",
    "cat_corr = pd.Series(cat_corr).sort_values(ascending=False)\n",
    "print(cat_corr)\n"
   ]
  },
  {
   "cell_type": "code",
   "execution_count": 69,
   "id": "76841de4",
   "metadata": {},
   "outputs": [
    {
     "data": {
      "text/plain": [
       "SalePrice           1.000000\n",
       "OverallQuality      0.790982\n",
       "GarageCars          0.640409\n",
       "GarageArea          0.617894\n",
       "TotalBsmtSF         0.613581\n",
       "FullBath            0.560664\n",
       "YearBuilt           0.522897\n",
       "GrLivArea           0.359387\n",
       "HalfBath            0.284108\n",
       "LotArea             0.263843\n",
       "Foundation          0.248774\n",
       "GarageType          0.192481\n",
       "SaleType            0.137287\n",
       "SaleCondition       0.135736\n",
       "HouseStyle          0.086342\n",
       "CentralAir          0.063166\n",
       "BldgType            0.034534\n",
       "LotType             0.021019\n",
       "Alley               0.004169\n",
       "Street              0.001684\n",
       "YearSold           -0.028923\n",
       "OverallCondition   -0.077856\n",
       "dtype: float64"
      ]
     },
     "execution_count": 69,
     "metadata": {},
     "output_type": "execute_result"
    }
   ],
   "source": [
    "all_corr = pd.concat([num_corr, cat_corr])\n",
    "all_corr = all_corr.sort_values(ascending=False)\n",
    "all_corr"
   ]
  },
  {
   "cell_type": "code",
   "execution_count": 74,
   "id": "86c94523",
   "metadata": {},
   "outputs": [
    {
     "data": {
      "image/png": "[encoded data removed]",
      "text/plain": [
       "<Figure size 1200x800 with 1 Axes>"
      ]
     },
     "metadata": {},
     "output_type": "display_data"
    }
   ],
   "source": [
    "import matplotlib.pyplot as plt\n",
    "import seaborn as sns\n",
    "\n",
    "corr_df = pd.DataFrame({\n",
    "    \"Variable\": all_corr.index,\n",
    "    \"CorrWithSalePrice\": all_corr.values,\n",
    "    \"Type\": [\"Numerical\" if var in num_corr.index else \"Categorical\" for var in all_corr.index]\n",
    "})\n",
    "\n",
    "plt.figure(figsize=(12, 8))\n",
    "sns.barplot(data=corr_df, x=\"CorrWithSalePrice\", y=\"Variable\", hue=\"Type\", dodge=False, palette=\"coolwarm\")\n",
    "plt.axvline(0, color='black', linewidth=0.5)\n",
    "plt.title(\"Correlation (Pearson & Eta²) with SalePrice\")\n",
    "plt.tight_layout()\n",
    "plt.show()\n"
   ]
  },
  {
   "cell_type": "markdown",
   "id": "a6b925ea",
   "metadata": {},
   "source": [
    "##### The Alley feature has too many missing values, so we will drop it from the dataset.\n",
    "\n",
    "##### Based on the data, YearSold and OverallCondition are only weakly correlated with SalePrice. While we could consider removing them, we should proceed with caution, as they might interact with other variables in ways that reveal a stronger relationship.\n",
    "\n",
    "##### The Street feature may not be useful since it contains only two categories, and one of them occurs very rarely.\n",
    "\n",
    "##### According to the metadata, we should not include the Foundation feature in the model, so it will be excluded.\n",
    "\n",
    "##### The CentralAir feature has a strong class imbalance, so I will not include it in the model.\n",
    "\n",
    "##### Although the SaleType feature also shows class imbalance, it includes a wide variety of values. For now, I will keep it.\n",
    "\n",
    "##### In the SaleCondition column, there are two identical values written differently: \"Normal\" and \"normal\". We will unify them by using \"Normal\" to maintain consistency in capitalization.\n",
    "\n",
    "##### The LotArea feature contains too many unique values, so I will group them into bins.\n",
    "\n",
    "##### Similarly, the GrLivArea feature has a high number of unique values, so I will also bin it.\n",
    "\n",
    "##### For TotalBsmtSF, I will consider creating bins to group the values into ranges.\n",
    "\n",
    "##### I will explore combining FullBath and HalfBath into a single feature, as they both represent bathrooms and appear to be related.\n",
    "\n",
    "##### I will create bins for GarageCars\n",
    "\n",
    "##### I will also create bins for GarageArea, and evaluate the correlation between GarageCars and GarageArea. If they are too closely related, one of them may be dropped."
   ]
  },
  {
   "cell_type": "code",
   "execution_count": null,
   "id": "92430499",
   "metadata": {},
   "outputs": [
    {
     "data": {
      "text/plain": [
       "['YearSold',\n",
       " 'GarageType',\n",
       " 'SaleType',\n",
       " 'Foundation',\n",
       " 'HouseStyle',\n",
       " 'BldgType',\n",
       " 'Street',\n",
       " 'CentralAir',\n",
       " 'OverallCondition',\n",
       " 'GarageArea',\n",
       " 'LotType',\n",
       " 'Alley',\n",
       " 'SaleCondition']"
      ]
     },
     "execution_count": 77,
     "metadata": {},
     "output_type": "execute_result"
    }
   ],
   "source": [
    "features_to_drop = [\"Alley\" ,\"Street\", \"Foundation\", \"CentralAir\" ,\"YearSold\",  \"OverallCondition\",  \"GarageArea\" ,\n",
    "]\n",
    "features_to_drop.extend(categorical_columns)\n",
    "features_to_drop = list(set(features_to_drop))\n",
    "features_to_drop\n",
    "\n",
    "#we decide to keep GrageCars over GarageArea for a better correlation with SalePrice"
   ]
  },
  {
   "cell_type": "markdown",
   "id": "ba87fd76",
   "metadata": {},
   "source": [
    "## In the next step we will drop the features that are not useful for our modelc,and create potential new features\n",
    "## (See the notebook preprocessing.ipynb)"
   ]
  },
  {
   "cell_type": "markdown",
   "id": "c183a681",
   "metadata": {},
   "source": []
  }
 ],
 "metadata": {
  "kernelspec": {
   "display_name": "venv",
   "language": "python",
   "name": "python3"
  },
  "language_info": {
   "codemirror_mode": {
    "name": "ipython",
    "version": 3
   },
   "file_extension": ".py",
   "mimetype": "text/x-python",
   "name": "python",
   "nbconvert_exporter": "python",
   "pygments_lexer": "ipython3",
   "version": "3.10.7"
  }
 },
 "nbformat": 4,
 "nbformat_minor": 5
}
