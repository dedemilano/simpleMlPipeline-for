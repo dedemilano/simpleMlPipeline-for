{
 "cells": [
  {
   "cell_type": "code",
   "execution_count": null,
   "id": "3b8822c4",
   "metadata": {},
   "outputs": [
    {
     "name": "stdout",
     "output_type": "stream",
     "text": [
      "R² Score: 0.6505\n",
      "\n",
      "Sample predictions:\n",
      "   Actual      Predicted\n",
      "0  190000  139536.497601\n",
      "1  745000  400938.136024\n",
      "2  110000   92789.753250\n",
      "3  178000  217539.095590\n",
      "4  255000  277470.942099\n",
      "5  277000  227566.211145\n",
      "6  130000  112408.283026\n",
      "7  132000  132568.263965\n",
      "8  149350  138078.400777\n",
      "9  274300  222362.585059\n"
     ]
    }
   ],
   "source": [
    "import pandas as pd\n",
    "import joblib\n",
    "from sklearn.metrics import r2_score\n",
    "\n",
    "# 1. Load your trained model (adjust path and format)\n",
    "model = joblib.load('../models/linear_regression_model_v4.pkl')  # or .pkl file\n",
    "\n",
    "# 2. Load test data (adjust paths to match your files)\n",
    "X_test = pd.read_csv('../processed_data/X_test_4.csv')\n",
    "y_test = pd.read_csv('../processed_data/y_test_4.csv')\n",
    "\n",
    "# 3. Make predictions\n",
    "y_pred = model.predict(X_test)\n",
    "\n",
    "# 4. Calculate R² score\n",
    "r2 = r2_score(y_test, y_pred)\n",
    "print(f\"R² Score: {r2:.4f}\")\n",
    "\n",
    "# Optional: Show sample predictions\n",
    "results = pd.DataFrame({\n",
    "    'Actual': y_test.values.flatten(),\n",
    "    'Predicted': y_pred.flatten()\n",
    "})\n",
    "print(\"\\nSample predictions:\")\n",
    "print(results.head(10))"
   ]
  }
 ],
 "metadata": {
  "kernelspec": {
   "display_name": "venv",
   "language": "python",
   "name": "python3"
  },
  "language_info": {
   "codemirror_mode": {
    "name": "ipython",
    "version": 3
   },
   "file_extension": ".py",
   "mimetype": "text/x-python",
   "name": "python",
   "nbconvert_exporter": "python",
   "pygments_lexer": "ipython3",
   "version": "3.10.7"
  }
 },
 "nbformat": 4,
 "nbformat_minor": 5
}
